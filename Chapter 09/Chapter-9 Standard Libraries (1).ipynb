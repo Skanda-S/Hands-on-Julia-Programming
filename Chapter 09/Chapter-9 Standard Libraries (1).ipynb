{
 "cells": [
  {
   "cell_type": "code",
   "execution_count": 2,
   "metadata": {},
   "outputs": [
    {
     "name": "stderr",
     "output_type": "stream",
     "text": [
      "\u001b[32m\u001b[1m  Activating\u001b[22m\u001b[39m project at `C:\\Users\\ACER`\n"
     ]
    }
   ],
   "source": [
    "using Pkg\n",
    "pkg\"activate .\"\n",
    "pkg\"instantiate\""
   ]
  },
  {
   "cell_type": "markdown",
   "metadata": {},
   "source": [
    "### Modules\n",
    "\n",
    "Namespaces where a method or a type reside. Using a method or type outside the module may require explicit qualification. "
   ]
  },
  {
   "cell_type": "code",
   "execution_count": 3,
   "metadata": {},
   "outputs": [
    {
     "data": {
      "text/plain": [
       "Main.m2"
      ]
     },
     "execution_count": 3,
     "metadata": {},
     "output_type": "execute_result"
    }
   ],
   "source": [
    "module m1\n",
    "    function f()\n",
    "        println(\"Defined as m1.f\")\n",
    "    end\n",
    "    function g()\n",
    "        println(\"Defined as m1.g\")\n",
    "    end\n",
    "    function h()\n",
    "        println(\"Defined as m1.h\")\n",
    "    end\n",
    "    export f\n",
    "end\n",
    "\n",
    "module m2\n",
    "    function f()\n",
    "        println(\"Defined as m2.f\")\n",
    "    end\n",
    "    function g()\n",
    "        println(\"Defined as m2.g\")\n",
    "    end\n",
    "    export g\n",
    "end"
   ]
  },
  {
   "cell_type": "code",
   "execution_count": 4,
   "metadata": {},
   "outputs": [
    {
     "data": {
      "text/plain": [
       "2-element Vector{Symbol}:\n",
       " :f\n",
       " :m1"
      ]
     },
     "execution_count": 4,
     "metadata": {},
     "output_type": "execute_result"
    }
   ],
   "source": [
    "names(m1)"
   ]
  },
  {
   "cell_type": "code",
   "execution_count": 5,
   "metadata": {},
   "outputs": [
    {
     "data": {
      "text/plain": [
       "2-element Vector{Symbol}:\n",
       " :g\n",
       " :m2"
      ]
     },
     "execution_count": 5,
     "metadata": {},
     "output_type": "execute_result"
    }
   ],
   "source": [
    "names(m2)"
   ]
  },
  {
   "cell_type": "code",
   "execution_count": 6,
   "metadata": {},
   "outputs": [
    {
     "ename": "LoadError",
     "evalue": "UndefVarError: f not defined",
     "output_type": "error",
     "traceback": [
      "UndefVarError: f not defined",
      "",
      "Stacktrace:",
      " [1] top-level scope",
      "   @ In[6]:1",
      " [2] eval",
      "   @ .\\boot.jl:368 [inlined]",
      " [3] include_string(mapexpr::typeof(REPL.softscope), mod::Module, code::String, filename::String)",
      "   @ Base .\\loading.jl:1428"
     ]
    }
   ],
   "source": [
    "f()"
   ]
  },
  {
   "cell_type": "code",
   "execution_count": 7,
   "metadata": {},
   "outputs": [
    {
     "name": "stdout",
     "output_type": "stream",
     "text": [
      "Defined as m1.f\n"
     ]
    }
   ],
   "source": [
    "m1.f()"
   ]
  },
  {
   "cell_type": "code",
   "execution_count": 8,
   "metadata": {},
   "outputs": [
    {
     "name": "stdout",
     "output_type": "stream",
     "text": [
      "Defined as m2.f\n"
     ]
    }
   ],
   "source": [
    "m2.f()"
   ]
  },
  {
   "cell_type": "code",
   "execution_count": 9,
   "metadata": {},
   "outputs": [],
   "source": [
    "using .m1"
   ]
  },
  {
   "cell_type": "code",
   "execution_count": 10,
   "metadata": {},
   "outputs": [
    {
     "name": "stdout",
     "output_type": "stream",
     "text": [
      "Defined as m1.f\n"
     ]
    }
   ],
   "source": [
    "f()"
   ]
  },
  {
   "cell_type": "code",
   "execution_count": 11,
   "metadata": {},
   "outputs": [
    {
     "ename": "LoadError",
     "evalue": "UndefVarError: g not defined",
     "output_type": "error",
     "traceback": [
      "UndefVarError: g not defined",
      "",
      "Stacktrace:",
      " [1] top-level scope",
      "   @ In[11]:1",
      " [2] eval",
      "   @ .\\boot.jl:368 [inlined]",
      " [3] include_string(mapexpr::typeof(REPL.softscope), mod::Module, code::String, filename::String)",
      "   @ Base .\\loading.jl:1428"
     ]
    }
   ],
   "source": [
    "g()"
   ]
  },
  {
   "cell_type": "code",
   "execution_count": 12,
   "metadata": {},
   "outputs": [],
   "source": [
    "using Main.m2"
   ]
  },
  {
   "cell_type": "code",
   "execution_count": 13,
   "metadata": {},
   "outputs": [
    {
     "name": "stdout",
     "output_type": "stream",
     "text": [
      "Defined as m2.g\n"
     ]
    }
   ],
   "source": [
    "g()"
   ]
  },
  {
   "cell_type": "code",
   "execution_count": 14,
   "metadata": {},
   "outputs": [
    {
     "name": "stderr",
     "output_type": "stream",
     "text": [
      "WARNING: ignoring conflicting import of m1.g into Main\n"
     ]
    }
   ],
   "source": [
    "using .m1: g"
   ]
  },
  {
   "cell_type": "code",
   "execution_count": 15,
   "metadata": {},
   "outputs": [
    {
     "name": "stdout",
     "output_type": "stream",
     "text": [
      "Defined as m2.g\n"
     ]
    }
   ],
   "source": [
    "g()"
   ]
  },
  {
   "cell_type": "code",
   "execution_count": 16,
   "metadata": {},
   "outputs": [],
   "source": [
    "using .m1: h"
   ]
  },
  {
   "cell_type": "code",
   "execution_count": 17,
   "metadata": {},
   "outputs": [
    {
     "name": "stdout",
     "output_type": "stream",
     "text": [
      "Defined as m1.h\n"
     ]
    }
   ],
   "source": [
    "h()"
   ]
  },
  {
   "cell_type": "markdown",
   "metadata": {},
   "source": [
    "## 9.2 Standard Modules\n",
    "\n",
    "`Core`, `Base` and `Main` the bare minimum modules of a Julia shell. `m1` and `m2` here are submodules of `Main`."
   ]
  },
  {
   "cell_type": "code",
   "execution_count": 18,
   "metadata": {},
   "outputs": [
    {
     "data": {
      "text/latex": [
       "\\begin{tabular}\n",
       "{l | r | l}\n",
       "name & size & summary \\\\\n",
       "\\hline\n",
       "Base &  & Module \\\\\n",
       "Core &  & Module \\\\\n",
       "Main &  & Module \\\\\n",
       "m1 & 6.380 KiB & Module \\\\\n",
       "m2 & 5.526 KiB & Module \\\\\n",
       "\\end{tabular}\n"
      ],
      "text/markdown": [
       "| name |      size | summary |\n",
       "|:---- | ---------:|:------- |\n",
       "| Base |           | Module  |\n",
       "| Core |           | Module  |\n",
       "| Main |           | Module  |\n",
       "| m1   | 6.380 KiB | Module  |\n",
       "| m2   | 5.526 KiB | Module  |\n"
      ],
      "text/plain": [
       "  name      size summary\n",
       "  –––– ––––––––– –––––––\n",
       "  Base           Module \n",
       "  Core           Module \n",
       "  Main           Module \n",
       "  m1   6.380 KiB Module \n",
       "  m2   5.526 KiB Module "
      ]
     },
     "execution_count": 18,
     "metadata": {},
     "output_type": "execute_result"
    }
   ],
   "source": [
    "varinfo()"
   ]
  },
  {
   "cell_type": "code",
   "execution_count": 19,
   "metadata": {},
   "outputs": [
    {
     "data": {
      "text/plain": [
       "1"
      ]
     },
     "execution_count": 19,
     "metadata": {},
     "output_type": "execute_result"
    }
   ],
   "source": [
    "x = 1"
   ]
  },
  {
   "cell_type": "code",
   "execution_count": 20,
   "metadata": {},
   "outputs": [
    {
     "data": {
      "text/latex": [
       "\\begin{tabular}\n",
       "{l | r | l}\n",
       "name & size & summary \\\\\n",
       "\\hline\n",
       "Base &  & Module \\\\\n",
       "Core &  & Module \\\\\n",
       "Main &  & Module \\\\\n",
       "m1 & 6.380 KiB & Module \\\\\n",
       "m2 & 5.526 KiB & Module \\\\\n",
       "x & 8 bytes & Int64 \\\\\n",
       "\\end{tabular}\n"
      ],
      "text/markdown": [
       "| name |      size | summary |\n",
       "|:---- | ---------:|:------- |\n",
       "| Base |           | Module  |\n",
       "| Core |           | Module  |\n",
       "| Main |           | Module  |\n",
       "| m1   | 6.380 KiB | Module  |\n",
       "| m2   | 5.526 KiB | Module  |\n",
       "| x    |   8 bytes | Int64   |\n"
      ],
      "text/plain": [
       "  name      size summary\n",
       "  –––– ––––––––– –––––––\n",
       "  Base           Module \n",
       "  Core           Module \n",
       "  Main           Module \n",
       "  m1   6.380 KiB Module \n",
       "  m2   5.526 KiB Module \n",
       "  x      8 bytes Int64  "
      ]
     },
     "execution_count": 20,
     "metadata": {},
     "output_type": "execute_result"
    }
   ],
   "source": [
    "varinfo()"
   ]
  },
  {
   "cell_type": "markdown",
   "metadata": {},
   "source": [
    "## 9.3 System\n",
    "\n",
    "The submodule that interacts with the operating system. System command execution being one of them. "
   ]
  },
  {
   "cell_type": "code",
   "execution_count": 21,
   "metadata": {},
   "outputs": [
    {
     "name": "stdout",
     "output_type": "stream",
     "text": [
      " Volume in drive C is Acer\r\n",
      " Volume Serial Number is 9EB3-C855\r\n",
      "\r\n",
      " Directory of C:\\Users\\ACER\r\n",
      "\r\n",
      "30-09-2022  15:00    <DIR>          .\r\n",
      "28-10-2021  20:32    <DIR>          ..\r\n",
      "30-09-2022  14:33    <DIR>          .conda\r\n",
      "26-07-2022  15:38                25 .condarc\r\n",
      "26-07-2022  15:38    <DIR>          .continuum\r\n",
      "10-05-2021  17:36    <DIR>          .docker\r\n",
      "30-09-2022  14:36    <DIR>          .ipynb_checkpoints\r\n",
      "26-07-2022  15:40    <DIR>          .ipython\r\n",
      "17-09-2022  23:39    <DIR>          .julia\r\n",
      "14-09-2022  00:19    <DIR>          .jupyter\r\n",
      "12-09-2022  16:19    <DIR>          .matplotlib\r\n",
      "06-07-2021  20:16    <DIR>          3D Objects\r\n",
      "25-07-2020  19:59    <DIR>          ansel\r\n",
      "14-09-2022  19:50         4,863,260 brownsville texas python assignmet.ipynb\r\n",
      "15-09-2022  12:08            43,544 Chapter-2 Data Types.ipynb\r\n",
      "15-09-2022  12:17            13,642 Chapter-3 Conditions Control Flows and Iterations.ipynb\r\n",
      "17-09-2022  23:54             3,896 Chapter-4 Functions and Methods jk.ipynb\r\n",
      "17-09-2022  23:52            26,491 Chapter-4 Functions and Methods.ipynb\r\n",
      "25-09-2022  00:00            59,361 Chapter-5 Collections assignment.ipynb\r\n",
      "30-09-2022  14:41            39,002 Chapter-7 Strings.ipynb\r\n",
      "30-09-2022  14:56            69,353 Chapter-9 Standard Libraries.ipynb\r\n",
      "02-08-2022  13:21            10,249 class 2.ipynb\r\n",
      "15-09-2022  12:14            21,608 class 3.ipynb\r\n",
      "18-08-2022  15:42            52,044 class 4 17.08.ipynb\r\n",
      "28-10-2021  20:35    <DIR>          Contacts\r\n",
      "18-03-2021  22:11    <DIR>          Creative Cloud Files\r\n",
      "12-08-2020  15:54    <DIR>          Creative Cloud Files (archived) (1)\r\n",
      "27-05-2021  23:00    <JUNCTION>     Desktop [\\??\\C:\\Users\\ACER\\Dropbox\\My PC (LAPTOP-DJ4KEKK9)\\Desktop]\r\n",
      "27-05-2021  23:00    <JUNCTION>     Documents [\\??\\C:\\Users\\ACER\\Dropbox\\My PC (LAPTOP-DJ4KEKK9)\\Documents]\r\n",
      "27-05-2021  23:00    <JUNCTION>     Downloads [\\??\\C:\\Users\\ACER\\Dropbox\\My PC (LAPTOP-DJ4KEKK9)\\Downloads]\r\n",
      "28-10-2021  20:35    <DIR>          Dropbox\r\n",
      "14-09-2022  00:11         5,008,178 Emmanuel Assignment (1).ipynb\r\n",
      "13-09-2022  17:09         4,928,117 Emmanuel Assignment.ipynb\r\n",
      "28-10-2021  20:35    <DIR>          Favorites\r\n",
      "12-09-2022  23:32         4,912,072 final_work _jan 2022_vaccine hesitancy.ipynb\r\n",
      "18-09-2022  00:02            43,666 julia assignment 2 .ipynb\r\n",
      "30-09-2022  14:53         6,949,901 julia-1.5.3.tar.gz\r\n",
      "15-09-2022  23:26        14,173,056 kc_python_assignment_main_run.ipynb\r\n",
      "14-09-2022  11:44        22,466,485 kc_python_assignment_new (3).ipynb\r\n",
      "13-09-2022  22:07        13,849,181 kc_python_assignment_new.ipynb\r\n",
      "28-10-2021  20:35    <DIR>          Links\r\n",
      "30-09-2022  14:39             5,162 Manifest.toml\r\n",
      "28-10-2021  20:35    <DIR>          Music\r\n",
      "30-09-2022  15:01    <DIR>          OneDrive\r\n",
      "19-09-2022  02:41    <DIR>          Pictures\r\n",
      "30-09-2022  14:39                62 Project.toml\r\n",
      "14-09-2022  19:50         5,807,655 python assignment.ipynb\r\n",
      "27-07-2022  11:43             2,208 python basic.ipynb\r\n",
      "28-10-2021  20:35    <DIR>          Saved Games\r\n",
      "28-10-2021  20:35    <DIR>          Searches\r\n",
      "16-09-2022  00:27        25,043,823 skanda_python (1) (1).ipynb\r\n",
      "15-09-2022  23:15         5,167,400 skanda_python (1).ipynb\r\n",
      "14-09-2022  15:26             3,686 Untitled.ipynb\r\n",
      "14-09-2022  00:19                72 Untitled1.ipynb\r\n",
      "17-09-2022  22:37               313 Untitled2.ipynb\r\n",
      "17-09-2022  23:45               462 Untitled3.ipynb\r\n",
      "30-09-2022  15:01    <DIR>          Videos\r\n",
      "16-09-2022  16:52            63,480 _Beverly Hills vaccinehesitensy final (1).ipynb\r\n",
      "              31 File(s)    113,627,454 bytes\r\n",
      "              27 Dir(s)  89,264,103,424 bytes free\r\n"
     ]
    },
    {
     "data": {
      "text/plain": [
       "Process(`\u001b[4mcmd\u001b[24m \u001b[4m/c\u001b[24m \u001b[4mdir\u001b[24m`, ProcessExited(0))"
      ]
     },
     "execution_count": 21,
     "metadata": {},
     "output_type": "execute_result"
    }
   ],
   "source": [
    "run(`cmd /c dir`)"
   ]
  },
  {
   "cell_type": "code",
   "execution_count": 22,
   "metadata": {},
   "outputs": [
    {
     "data": {
      "text/plain": [
       "(false, true)"
      ]
     },
     "execution_count": 22,
     "metadata": {},
     "output_type": "execute_result"
    }
   ],
   "source": [
    "Sys.isunix(), Sys.iswindows()"
   ]
  },
  {
   "cell_type": "markdown",
   "metadata": {},
   "source": [
    "## 9.4 Filesystem\n",
    "\n",
    "File organization and manipulation (not read and write). "
   ]
  },
  {
   "cell_type": "code",
   "execution_count": 23,
   "metadata": {},
   "outputs": [
    {
     "data": {
      "text/plain": [
       "\"C:\\\\Users\\\\ACER\""
      ]
     },
     "execution_count": 23,
     "metadata": {},
     "output_type": "execute_result"
    }
   ],
   "source": [
    "old_dir = pwd()"
   ]
  },
  {
   "cell_type": "code",
   "execution_count": 24,
   "metadata": {},
   "outputs": [],
   "source": [
    "cd(\"..\")"
   ]
  },
  {
   "cell_type": "code",
   "execution_count": 25,
   "metadata": {},
   "outputs": [
    {
     "data": {
      "text/plain": [
       "\"C:\\\\Users\""
      ]
     },
     "execution_count": 25,
     "metadata": {},
     "output_type": "execute_result"
    }
   ],
   "source": [
    "pwd()"
   ]
  },
  {
   "cell_type": "code",
   "execution_count": 26,
   "metadata": {},
   "outputs": [],
   "source": [
    "cd(old_dir)"
   ]
  },
  {
   "cell_type": "code",
   "execution_count": 27,
   "metadata": {},
   "outputs": [
    {
     "data": {
      "text/plain": [
       "\"C:\\\\Users\\\\ACER\""
      ]
     },
     "execution_count": 27,
     "metadata": {},
     "output_type": "execute_result"
    }
   ],
   "source": [
    "pwd()"
   ]
  },
  {
   "cell_type": "code",
   "execution_count": 28,
   "metadata": {},
   "outputs": [
    {
     "data": {
      "text/plain": [
       "\"C:\\\\Users\""
      ]
     },
     "execution_count": 28,
     "metadata": {},
     "output_type": "execute_result"
    }
   ],
   "source": [
    "cd(\"..\"); pwd()"
   ]
  },
  {
   "cell_type": "code",
   "execution_count": 29,
   "metadata": {},
   "outputs": [
    {
     "data": {
      "text/plain": [
       "6-element Vector{String}:\n",
       " \"ACER\"\n",
       " \"All Users\"\n",
       " \"Default\"\n",
       " \"Default User\"\n",
       " \"Public\"\n",
       " \"desktop.ini\""
      ]
     },
     "execution_count": 29,
     "metadata": {},
     "output_type": "execute_result"
    }
   ],
   "source": [
    "readdir()  #Same as readdir(pwd())"
   ]
  },
  {
   "cell_type": "code",
   "execution_count": 30,
   "metadata": {},
   "outputs": [],
   "source": [
    "for (root, dirs, files) in walkdir(\"Chapter-09\")\n",
    "    println(\"Directories in $root\")\n",
    "    for dir in dirs\n",
    "        println(joinpath(root, dir)) # path to directories\n",
    "    end\n",
    "    println(\"Files in $root\")\n",
    "    for file in files\n",
    "        println(joinpath(root, file)) # path to files\n",
    "    end\n",
    "end"
   ]
  },
  {
   "cell_type": "code",
   "execution_count": 31,
   "metadata": {},
   "outputs": [
    {
     "data": {
      "text/plain": [
       "\"C:\\\\Users\\\\ACER\""
      ]
     },
     "execution_count": 31,
     "metadata": {},
     "output_type": "execute_result"
    }
   ],
   "source": [
    "cd(old_dir); pwd()"
   ]
  },
  {
   "cell_type": "code",
   "execution_count": 32,
   "metadata": {},
   "outputs": [
    {
     "data": {
      "text/plain": [
       "StatStruct for \"Chapter-9 Standard Libraries.ipynb\"\n",
       "   size: 69353 bytes\n",
       " device: 2662582357\n",
       "  inode: 15903\n",
       "   mode: 0o100666 (-rw-rw-rw-)\n",
       "  nlink: 1\n",
       "    uid: 0\n",
       "    gid: 0\n",
       "   rdev: 0\n",
       "  blksz: 4096\n",
       " blocks: 136\n",
       "  mtime:  (5 hours ago)\n",
       "  ctime:  (5 hours ago)"
      ]
     },
     "execution_count": 32,
     "metadata": {},
     "output_type": "execute_result"
    }
   ],
   "source": [
    "fs = stat(\"Chapter-9 Standard Libraries.ipynb\")"
   ]
  },
  {
   "cell_type": "markdown",
   "metadata": {},
   "source": [
    "#### Tasks"
   ]
  },
  {
   "cell_type": "code",
   "execution_count": 33,
   "metadata": {},
   "outputs": [
    {
     "data": {
      "text/plain": [
       "Task (runnable) @0x000000007248c5e0"
      ]
     },
     "execution_count": 33,
     "metadata": {},
     "output_type": "execute_result"
    }
   ],
   "source": [
    "t = Task() do \n",
    "    sleep(10)\n",
    "    println(\"done\")\n",
    "end"
   ]
  },
  {
   "cell_type": "code",
   "execution_count": 34,
   "metadata": {},
   "outputs": [
    {
     "data": {
      "text/plain": [
       "Task (runnable) @0x000000007248c5e0"
      ]
     },
     "execution_count": 34,
     "metadata": {},
     "output_type": "execute_result"
    }
   ],
   "source": [
    "schedule(t)"
   ]
  },
  {
   "cell_type": "code",
   "execution_count": 35,
   "metadata": {},
   "outputs": [
    {
     "data": {
      "text/plain": [
       "Task (runnable) @0x000000000c12c7d0"
      ]
     },
     "execution_count": 35,
     "metadata": {},
     "output_type": "execute_result"
    }
   ],
   "source": [
    "t = Task() do \n",
    "    sleep(10)\n",
    "    println(\"done\")\n",
    "end"
   ]
  },
  {
   "cell_type": "code",
   "execution_count": 36,
   "metadata": {},
   "outputs": [
    {
     "name": "stdout",
     "output_type": "stream",
     "text": [
      "done\n",
      "done\n"
     ]
    }
   ],
   "source": [
    "schedule(t); wait(t)"
   ]
  },
  {
   "cell_type": "code",
   "execution_count": 37,
   "metadata": {},
   "outputs": [
    {
     "data": {
      "text/plain": [
       "Task (runnable) @0x000000000c12c9c0"
      ]
     },
     "execution_count": 37,
     "metadata": {},
     "output_type": "execute_result"
    }
   ],
   "source": [
    "t = @task begin\n",
    "    sleep(5)\n",
    "    println(\"done\")\n",
    "end"
   ]
  },
  {
   "cell_type": "code",
   "execution_count": 38,
   "metadata": {},
   "outputs": [
    {
     "name": "stdout",
     "output_type": "stream",
     "text": [
      "done\n"
     ]
    }
   ],
   "source": [
    "@sync  begin\n",
    "    sleep(5)\n",
    "    println(\"done\")\n",
    "end"
   ]
  },
  {
   "cell_type": "markdown",
   "metadata": {},
   "source": [
    "#### Channels"
   ]
  },
  {
   "cell_type": "code",
   "execution_count": 39,
   "metadata": {},
   "outputs": [
    {
     "data": {
      "text/plain": [
       "Channel{Any}(8) (empty)"
      ]
     },
     "execution_count": 39,
     "metadata": {},
     "output_type": "execute_result"
    }
   ],
   "source": [
    "c = Channel(8)"
   ]
  },
  {
   "cell_type": "code",
   "execution_count": 40,
   "metadata": {},
   "outputs": [
    {
     "data": {
      "text/plain": [
       "Channel{Int64}(4) (empty)"
      ]
     },
     "execution_count": 40,
     "metadata": {},
     "output_type": "execute_result"
    }
   ],
   "source": [
    "c = Channel{Int}(4)"
   ]
  },
  {
   "cell_type": "code",
   "execution_count": 41,
   "metadata": {},
   "outputs": [
    {
     "data": {
      "text/plain": [
       "Task (runnable) @0x000000007248cbb0"
      ]
     },
     "execution_count": 41,
     "metadata": {},
     "output_type": "execute_result"
    },
    {
     "name": "stdout",
     "output_type": "stream",
     "text": [
      "Adding 1 to channel\n"
     ]
    }
   ],
   "source": [
    "@async begin\n",
    "    for i = 1:100\n",
    "        println(\"Adding $i to channel\")\n",
    "        put!(c, i)\n",
    "    end\n",
    "end\n",
    "\n",
    "@async begin\n",
    "    for i = 1:100\n",
    "        v = take!(c)\n",
    "        println(\"Removing value: $v\")\n",
    "    end\n",
    "end"
   ]
  },
  {
   "cell_type": "code",
   "execution_count": 42,
   "metadata": {},
   "outputs": [
    {
     "name": "stdout",
     "output_type": "stream",
     "text": [
      "Adding 2 to channel\n",
      "Adding 3 to channel\n",
      "Removing value: 1\n",
      "Removing value: 2"
     ]
    }
   ],
   "source": [
    "close(c)"
   ]
  },
  {
   "cell_type": "markdown",
   "metadata": {},
   "source": [
    "### Multithreading\n",
    "\n",
    "Julia can be made to run on a multiple threads mode. In such a conditions the tasks can be parallelized on these threads. Synchronization objects can be used across the executing threads. "
   ]
  },
  {
   "cell_type": "code",
   "execution_count": 43,
   "metadata": {},
   "outputs": [
    {
     "name": "stdout",
     "output_type": "stream",
     "text": [
      "\n"
     ]
    },
    {
     "data": {
      "text/plain": [
       "1"
      ]
     },
     "execution_count": 43,
     "metadata": {},
     "output_type": "execute_result"
    }
   ],
   "source": [
    "Threads.nthreads()"
   ]
  },
  {
   "cell_type": "code",
   "execution_count": 44,
   "metadata": {},
   "outputs": [
    {
     "data": {
      "text/plain": [
       "Task (runnable) @0x000000000a2fd370"
      ]
     },
     "execution_count": 44,
     "metadata": {},
     "output_type": "execute_result"
    }
   ],
   "source": [
    "Threads.@spawn for i=1:100\n",
    "    sleep(1)\n",
    "    println(\"Step: $i\")\n",
    "end"
   ]
  },
  {
   "cell_type": "markdown",
   "metadata": {},
   "source": [
    "### Default Stream\n",
    "\n",
    "`stdin`, `stdout` and `stderr` are the standard streams for input, output and error in most processes. `stdin` integration with Jupyter is limited. All those samples may best be reviewed in a REPL console. "
   ]
  },
  {
   "cell_type": "code",
   "execution_count": 45,
   "metadata": {},
   "outputs": [
    {
     "name": "stdout",
     "output_type": "stream",
     "text": [
      "Hello World"
     ]
    },
    {
     "data": {
      "text/plain": [
       "11"
      ]
     },
     "execution_count": 45,
     "metadata": {},
     "output_type": "execute_result"
    }
   ],
   "source": [
    "write(stdout, \"Hello World\")"
   ]
  },
  {
   "cell_type": "code",
   "execution_count": 46,
   "metadata": {},
   "outputs": [
    {
     "name": "stdout",
     "output_type": "stream",
     "text": [
      "∀ x ∃ y"
     ]
    },
    {
     "data": {
      "text/plain": [
       "11"
      ]
     },
     "execution_count": 46,
     "metadata": {},
     "output_type": "execute_result"
    }
   ],
   "source": [
    "write(stdout, \"\\u2200 x \\u2203 y\")"
   ]
  },
  {
   "cell_type": "markdown",
   "metadata": {},
   "source": [
    "### File I/O\n",
    "\n",
    "Files are also accessed as `IO` streams for both read and write operations. However, the `IO` streams are obtained by `open` call. Any open stream must be closed with a `close` function call. "
   ]
  },
  {
   "cell_type": "code",
   "execution_count": 47,
   "metadata": {},
   "outputs": [
    {
     "data": {
      "text/plain": [
       "11"
      ]
     },
     "execution_count": 47,
     "metadata": {},
     "output_type": "execute_result"
    }
   ],
   "source": [
    "write(\"hello.txt\", \"Hello World\")"
   ]
  },
  {
   "cell_type": "code",
   "execution_count": 48,
   "metadata": {},
   "outputs": [],
   "source": [
    "fd = open(\"hello.txt\", \"r\");\n",
    "data = read(fd);"
   ]
  },
  {
   "cell_type": "code",
   "execution_count": 49,
   "metadata": {},
   "outputs": [
    {
     "ename": "LoadError",
     "evalue": "ArgumentError: write failed, IOStream is not writeable",
     "output_type": "error",
     "traceback": [
      "ArgumentError: write failed, IOStream is not writeable",
      "",
      "Stacktrace:",
      " [1] unsafe_write(s::IOStream, p::Ptr{UInt8}, nb::UInt64)",
      "   @ Base .\\iostream.jl:373",
      " [2] write(io::IOStream, s::String)",
      "   @ Base .\\strings\\io.jl:244",
      " [3] top-level scope",
      "   @ In[49]:1",
      " [4] eval",
      "   @ .\\boot.jl:368 [inlined]",
      " [5] include_string(mapexpr::typeof(REPL.softscope), mod::Module, code::String, filename::String)",
      "   @ Base .\\loading.jl:1428"
     ]
    }
   ],
   "source": [
    "write(fd, \"This is second line\")"
   ]
  },
  {
   "cell_type": "code",
   "execution_count": 50,
   "metadata": {},
   "outputs": [
    {
     "name": "stdout",
     "output_type": "stream",
     "text": [
      "Hello World"
     ]
    },
    {
     "data": {
      "text/plain": [
       "11"
      ]
     },
     "execution_count": 50,
     "metadata": {},
     "output_type": "execute_result"
    }
   ],
   "source": [
    "close(fd)\n",
    "write(stdout, data)"
   ]
  },
  {
   "cell_type": "code",
   "execution_count": 51,
   "metadata": {},
   "outputs": [
    {
     "name": "stdout",
     "output_type": "stream",
     "text": [
      "Hello World"
     ]
    },
    {
     "data": {
      "text/plain": [
       "11"
      ]
     },
     "execution_count": 51,
     "metadata": {},
     "output_type": "execute_result"
    }
   ],
   "source": [
    "open(\"hello.txt\", \"r\") do fd\n",
    "    data = read(fd)\n",
    "    write(stdout, data)\n",
    "end"
   ]
  },
  {
   "cell_type": "code",
   "execution_count": 52,
   "metadata": {},
   "outputs": [
    {
     "name": "stdout",
     "output_type": "stream",
     "text": [
      "Hello World"
     ]
    }
   ],
   "source": [
    "write(\"hello.txt\", \"Hello World\");\n",
    "data = read(\"hello.txt\");\n",
    "write(stdout, data);"
   ]
  },
  {
   "cell_type": "markdown",
   "metadata": {},
   "source": [
    "Files are opened for `read` or `write`. A file opened for reading cannot be written into.  "
   ]
  },
  {
   "cell_type": "code",
   "execution_count": 53,
   "metadata": {},
   "outputs": [
    {
     "name": "stdout",
     "output_type": "stream",
     "text": [
      "Hello World"
     ]
    }
   ],
   "source": [
    "open(\"hello.txt\", \"r\") do fd\n",
    "    while !eof(fd)\n",
    "        b = read(fd, 1)\n",
    "        write(stdout, b)\n",
    "    end\n",
    "end\n",
    "rm(\"hello.txt\")"
   ]
  },
  {
   "cell_type": "markdown",
   "metadata": {},
   "source": [
    "### Delimited Files\n",
    "\n",
    "Generalized command separated value (CSV) kind of files. Used extensively in spreadsheets. Also interfaced in data science applications as an easier way to share data. "
   ]
  },
  {
   "cell_type": "code",
   "execution_count": 54,
   "metadata": {},
   "outputs": [],
   "source": [
    "using DelimitedFiles\n",
    "x = collect(1:100);\n",
    "y = Float64.(collect(101:200));\n",
    "open(\"values.csv\", \"w\") do f\n",
    "    println(f, \"X,Y\")\n",
    "    writedlm(f, [x y], ',')\n",
    "end"
   ]
  },
  {
   "cell_type": "code",
   "execution_count": 55,
   "metadata": {},
   "outputs": [
    {
     "name": "stdout",
     "output_type": "stream",
     "text": [
      "Step: 1\n"
     ]
    }
   ],
   "source": [
    "data, header = readdlm(\"values.csv\", ',', header=true);"
   ]
  },
  {
   "cell_type": "code",
   "execution_count": 56,
   "metadata": {},
   "outputs": [
    {
     "data": {
      "text/plain": [
       "100"
      ]
     },
     "execution_count": 56,
     "metadata": {},
     "output_type": "execute_result"
    }
   ],
   "source": [
    "size(data, 1)"
   ]
  },
  {
   "cell_type": "code",
   "execution_count": 57,
   "metadata": {},
   "outputs": [
    {
     "data": {
      "text/plain": [
       "1×2 Matrix{AbstractString}:\n",
       " \"X\"  \"Y\""
      ]
     },
     "execution_count": 57,
     "metadata": {},
     "output_type": "execute_result"
    }
   ],
   "source": [
    "header"
   ]
  },
  {
   "cell_type": "code",
   "execution_count": 58,
   "metadata": {},
   "outputs": [],
   "source": [
    "rm(\"values.csv\")"
   ]
  },
  {
   "cell_type": "markdown",
   "metadata": {},
   "source": [
    "### Network \n",
    "\n",
    "Just like files are opened with open to obtain the `IO` stream to interface, sockets are equivalent network communication end points to obtain connection streams. However, if you could use download method to provide a URL and download files. "
   ]
  },
  {
   "cell_type": "code",
   "execution_count": 59,
   "metadata": {},
   "outputs": [
    {
     "name": "stdout",
     "output_type": "stream",
     "text": [
      "Step: 2\n",
      "Step: 3\n",
      "Step: 4\n",
      "Step: 5\n",
      "Step: 6\n",
      "Step: 7\n",
      "Step: 8\n"
     ]
    },
    {
     "data": {
      "text/plain": [
       "\"julia-1.5.3.tar.gz\""
      ]
     },
     "execution_count": 59,
     "metadata": {},
     "output_type": "execute_result"
    }
   ],
   "source": [
    "download(\"https://github.com/JuliaLang/julia/releases/download/v1.5.3/julia-1.5.3.tar.gz\", \"julia-1.5.3.tar.gz\")"
   ]
  },
  {
   "cell_type": "code",
   "execution_count": 60,
   "metadata": {},
   "outputs": [
    {
     "data": {
      "text/plain": [
       "Task (runnable) @0x000000000c243a30"
      ]
     },
     "execution_count": 60,
     "metadata": {},
     "output_type": "execute_result"
    }
   ],
   "source": [
    "using Sockets\n",
    "@async begin\n",
    "    server = listen(3000)\n",
    "    while true\n",
    "        s = accept(server)\n",
    "        @async while isopen(s)\n",
    "            msg = readline(s, keep=true)\n",
    "            write(s, \"Server Response: $msg\")\n",
    "        end  \n",
    "    end\n",
    "end"
   ]
  },
  {
   "cell_type": "code",
   "execution_count": 61,
   "metadata": {},
   "outputs": [
    {
     "data": {
      "text/plain": [
       "Task (runnable) @0x0000000073df8010"
      ]
     },
     "execution_count": 61,
     "metadata": {},
     "output_type": "execute_result"
    }
   ],
   "source": [
    "c = connect(3000)\n",
    "@async while isopen(c)\n",
    "    println(stdout, readline(c, keep=true))\n",
    "end"
   ]
  },
  {
   "cell_type": "code",
   "execution_count": 62,
   "metadata": {},
   "outputs": [
    {
     "name": "stdout",
     "output_type": "stream",
     "text": [
      "Server Response: Client Msg id: 1\n",
      "\n",
      "Server Response: Client Msg id: 2\n",
      "\n"
     ]
    }
   ],
   "source": [
    "for i = 1:5\n",
    "    println(c, \"Client Msg id: $i\")\n",
    "end"
   ]
  },
  {
   "cell_type": "code",
   "execution_count": 63,
   "metadata": {},
   "outputs": [
    {
     "name": "stdout",
     "output_type": "stream",
     "text": [
      "Server Response: Client Msg id: 3\n",
      "\n",
      "Step: 9\n"
     ]
    }
   ],
   "source": [
    "close(c)"
   ]
  },
  {
   "cell_type": "markdown",
   "metadata": {},
   "source": [
    "### Memory I/O\n",
    "\n",
    "Strings cannot be manipulated. It may help to create a byte array for `IO` in the memory and use that for text manipulations. In the end the byte array can be converted to a String. "
   ]
  },
  {
   "cell_type": "code",
   "execution_count": 64,
   "metadata": {},
   "outputs": [
    {
     "data": {
      "text/plain": [
       "\"This is Line 1\\nThis is Line 2\\n\""
      ]
     },
     "execution_count": 64,
     "metadata": {},
     "output_type": "execute_result"
    }
   ],
   "source": [
    "io = IOBuffer()\n",
    "println(io, \"This is Line 1\")\n",
    "println(io, \"This is Line 2\")\n",
    "str = String(take!(io))"
   ]
  },
  {
   "cell_type": "code",
   "execution_count": 65,
   "metadata": {},
   "outputs": [
    {
     "data": {
      "text/plain": [
       "800"
      ]
     },
     "execution_count": 65,
     "metadata": {},
     "output_type": "execute_result"
    }
   ],
   "source": [
    "A = fill(10, (5, 20))\n",
    "A[2, 3] = 20\n",
    "open(\"mmap.bin\", \"w+\") do fd\n",
    "    write(fd, size(A, 1))\n",
    "    write(fd, size(A, 2))\n",
    "    write(fd, A)\n",
    "end"
   ]
  },
  {
   "cell_type": "markdown",
   "metadata": {},
   "source": [
    "Memory mapping is reverse problem. A file can be mapped to memory and accessed selectively page by page. This way the whole file need not be loaded in the memory. "
   ]
  },
  {
   "cell_type": "code",
   "execution_count": 66,
   "metadata": {},
   "outputs": [
    {
     "name": "stdout",
     "output_type": "stream",
     "text": [
      "A2[1, 1]: 10 A2[2, 3]: 20\n"
     ]
    }
   ],
   "source": [
    "using Mmap\n",
    "fd = open(\"mmap.bin\", \"r\")\n",
    "nr = read(fd, Int)\n",
    "nc = read(fd, Int)\n",
    "A2 = Mmap.mmap(fd, Matrix{Int}, (nr, nc))\n",
    "println(\"A2[1, 1]: \", A2[1, 1], \" A2[2, 3]: \", A2[2, 3])\n",
    "close(fd)"
   ]
  },
  {
   "cell_type": "code",
   "execution_count": 67,
   "metadata": {},
   "outputs": [],
   "source": [
    "A2 = nothing\n",
    "GC.gc()\n",
    "rm(\"mmap.bin\")"
   ]
  },
  {
   "cell_type": "markdown",
   "metadata": {},
   "source": [
    "## 9.7 Constants\n",
    "\n",
    "There are many system and Julia related constants. Mathematical constants are also defined in the standard library. "
   ]
  },
  {
   "cell_type": "code",
   "execution_count": 68,
   "metadata": {},
   "outputs": [
    {
     "data": {
      "text/plain": [
       "v\"1.8.1\""
      ]
     },
     "execution_count": 68,
     "metadata": {},
     "output_type": "execute_result"
    }
   ],
   "source": [
    "VERSION"
   ]
  },
  {
   "cell_type": "code",
   "execution_count": 69,
   "metadata": {},
   "outputs": [
    {
     "data": {
      "text/plain": [
       "Ptr{Nothing} @0x0000000000000000"
      ]
     },
     "execution_count": 69,
     "metadata": {},
     "output_type": "execute_result"
    }
   ],
   "source": [
    "C_NULL"
   ]
  },
  {
   "cell_type": "code",
   "execution_count": 70,
   "metadata": {},
   "outputs": [
    {
     "name": "stdout",
     "output_type": "stream",
     "text": [
      "Step: 10\n"
     ]
    },
    {
     "data": {
      "text/plain": [
       "\"C:\\\\Users\\\\ACER\\\\AppData\\\\Local\\\\Programs\\\\Julia-1.8.1\\\\bin\""
      ]
     },
     "execution_count": 70,
     "metadata": {},
     "output_type": "execute_result"
    }
   ],
   "source": [
    "Sys.BINDIR"
   ]
  },
  {
   "cell_type": "code",
   "execution_count": 71,
   "metadata": {},
   "outputs": [
    {
     "data": {
      "text/plain": [
       "8"
      ]
     },
     "execution_count": 71,
     "metadata": {},
     "output_type": "execute_result"
    }
   ],
   "source": [
    "Sys.CPU_THREADS"
   ]
  },
  {
   "cell_type": "code",
   "execution_count": 72,
   "metadata": {},
   "outputs": [
    {
     "data": {
      "text/plain": [
       "64"
      ]
     },
     "execution_count": 72,
     "metadata": {},
     "output_type": "execute_result"
    }
   ],
   "source": [
    "Sys.WORD_SIZE"
   ]
  },
  {
   "cell_type": "code",
   "execution_count": 73,
   "metadata": {},
   "outputs": [
    {
     "data": {
      "text/plain": [
       ":NT"
      ]
     },
     "execution_count": 73,
     "metadata": {},
     "output_type": "execute_result"
    }
   ],
   "source": [
    "Sys.KERNEL"
   ]
  },
  {
   "cell_type": "code",
   "execution_count": 74,
   "metadata": {},
   "outputs": [
    {
     "data": {
      "text/plain": [
       "\"x86_64-w64-mingw32\""
      ]
     },
     "execution_count": 74,
     "metadata": {},
     "output_type": "execute_result"
    }
   ],
   "source": [
    "Sys.MACHINE"
   ]
  },
  {
   "cell_type": "code",
   "execution_count": 75,
   "metadata": {},
   "outputs": [
    {
     "data": {
      "text/plain": [
       ":x86_64"
      ]
     },
     "execution_count": 75,
     "metadata": {},
     "output_type": "execute_result"
    }
   ],
   "source": [
    "Sys.ARCH"
   ]
  },
  {
   "cell_type": "code",
   "execution_count": 76,
   "metadata": {},
   "outputs": [
    {
     "data": {
      "text/plain": [
       "Base.EnvDict with 47 entries:\n",
       "  \"=C:\"                     => \"C:\\\\Users\\\\ACER\"\n",
       "  \"ALLUSERSPROFILE\"         => \"C:\\\\ProgramData\"\n",
       "  \"APPDATA\"                 => \"C:\\\\Users\\\\ACER\\\\AppData\\\\Roaming\"\n",
       "  \"COLUMNS\"                 => \"80\"\n",
       "  \"COMMONPROGRAMFILES\"      => \"C:\\\\Program Files\\\\Common Files\"\n",
       "  \"COMMONPROGRAMFILES(X86)\" => \"C:\\\\Program Files (x86)\\\\Common Files\"\n",
       "  \"COMMONPROGRAMW6432\"      => \"C:\\\\Program Files\\\\Common Files\"\n",
       "  \"COMPUTERNAME\"            => \"LAPTOP-DJ4KEKK9\"\n",
       "  \"COMSPEC\"                 => \"C:\\\\WINDOWS\\\\system32\\\\cmd.exe\"\n",
       "  \"DRIVERDATA\"              => \"C:\\\\Windows\\\\System32\\\\Drivers\\\\DriverData\"\n",
       "  \"HOMEDRIVE\"               => \"C:\"\n",
       "  \"HOMEPATH\"                => \"\\\\Users\\\\ACER\"\n",
       "  \"JULIA\"                   => \"C:\\\\Users\\\\ACER\\\\AppData\\\\Local\\\\Programs\\\\Juli…\n",
       "  \"LINES\"                   => \"30\"\n",
       "  \"LOCALAPPDATA\"            => \"C:\\\\Users\\\\ACER\\\\AppData\\\\Local\"\n",
       "  \"LOGONSERVER\"             => \"\\\\\\\\LAPTOP-DJ4KEKK9\"\n",
       "  \"NUMBER_OF_PROCESSORS\"    => \"8\"\n",
       "  \"ONEDRIVE\"                => \"C:\\\\Users\\\\ACER\\\\OneDrive\"\n",
       "  \"ONEDRIVECONSUMER\"        => \"C:\\\\Users\\\\ACER\\\\OneDrive\"\n",
       "  \"OS\"                      => \"Windows_NT\"\n",
       "  \"PATH\"                    => \"F:\\\\New Folder\\\\New Folder\\\\anaconda;F:\\\\New Fo…\n",
       "  \"PATHEXT\"                 => \".COM;.EXE;.BAT;.CMD;.VBS;.VBE;.JS;.JSE;.WSF;.WS…\n",
       "  \"PROCESSOR_ARCHITECTURE\"  => \"AMD64\"\n",
       "  \"PROCESSOR_IDENTIFIER\"    => \"Intel64 Family 6 Model 165 Stepping 2, GenuineI…\n",
       "  \"PROCESSOR_LEVEL\"         => \"6\"\n",
       "  ⋮                         => ⋮"
      ]
     },
     "execution_count": 76,
     "metadata": {},
     "output_type": "execute_result"
    }
   ],
   "source": [
    "Sys.ENV"
   ]
  },
  {
   "cell_type": "code",
   "execution_count": 77,
   "metadata": {},
   "outputs": [
    {
     "name": "stdout",
     "output_type": "stream",
     "text": [
      "Step: 11\n"
     ]
    },
    {
     "data": {
      "text/plain": [
       "π = 3.1415926535897..."
      ]
     },
     "execution_count": 77,
     "metadata": {},
     "output_type": "execute_result"
    }
   ],
   "source": [
    "MathConstants.pi"
   ]
  },
  {
   "cell_type": "code",
   "execution_count": 78,
   "metadata": {},
   "outputs": [
    {
     "data": {
      "text/plain": [
       "ℯ = 2.7182818284590..."
      ]
     },
     "execution_count": 78,
     "metadata": {},
     "output_type": "execute_result"
    }
   ],
   "source": [
    "MathConstants.e"
   ]
  },
  {
   "cell_type": "markdown",
   "metadata": {},
   "source": [
    "## 9.8 Notable Modules\n",
    "\n",
    "Miscellaneous modules of Julia library. "
   ]
  },
  {
   "cell_type": "markdown",
   "metadata": {},
   "source": [
    "### Dates\n",
    "\n",
    "User renderable date and time representations. In the system the date is just a continuously increasing counter from a datum. These functions make meaningful period associations and provide the correct date and time. "
   ]
  },
  {
   "cell_type": "code",
   "execution_count": 79,
   "metadata": {},
   "outputs": [],
   "source": [
    "using Dates"
   ]
  },
  {
   "cell_type": "code",
   "execution_count": 80,
   "metadata": {},
   "outputs": [
    {
     "data": {
      "text/plain": [
       "2022-09-30T20:43:58.492"
      ]
     },
     "execution_count": 80,
     "metadata": {},
     "output_type": "execute_result"
    }
   ],
   "source": [
    "now()"
   ]
  },
  {
   "cell_type": "code",
   "execution_count": 81,
   "metadata": {},
   "outputs": [
    {
     "name": "stdout",
     "output_type": "stream",
     "text": [
      "Step: 12\n"
     ]
    },
    {
     "data": {
      "text/plain": [
       "2020-01-01T00:00:00"
      ]
     },
     "execution_count": 81,
     "metadata": {},
     "output_type": "execute_result"
    }
   ],
   "source": [
    "DateTime(2020)"
   ]
  },
  {
   "cell_type": "code",
   "execution_count": 82,
   "metadata": {},
   "outputs": [
    {
     "data": {
      "text/plain": [
       "2020-10-31T01:02:03"
      ]
     },
     "execution_count": 82,
     "metadata": {},
     "output_type": "execute_result"
    }
   ],
   "source": [
    "t = DateTime(2020, 10, 31, 01, 02, 03)"
   ]
  },
  {
   "cell_type": "code",
   "execution_count": 83,
   "metadata": {},
   "outputs": [
    {
     "data": {
      "text/plain": [
       "2020-01-01"
      ]
     },
     "execution_count": 83,
     "metadata": {},
     "output_type": "execute_result"
    }
   ],
   "source": [
    "Date(2020)"
   ]
  },
  {
   "cell_type": "code",
   "execution_count": 84,
   "metadata": {},
   "outputs": [
    {
     "data": {
      "text/plain": [
       "2020-10-31"
      ]
     },
     "execution_count": 84,
     "metadata": {},
     "output_type": "execute_result"
    }
   ],
   "source": [
    "d = Date(t)"
   ]
  },
  {
   "cell_type": "code",
   "execution_count": 85,
   "metadata": {},
   "outputs": [
    {
     "data": {
      "text/plain": [
       "2020-10-31T00:00:00"
      ]
     },
     "execution_count": 85,
     "metadata": {},
     "output_type": "execute_result"
    }
   ],
   "source": [
    "DateTime(d)"
   ]
  },
  {
   "cell_type": "code",
   "execution_count": 86,
   "metadata": {},
   "outputs": [
    {
     "data": {
      "text/plain": [
       "true"
      ]
     },
     "execution_count": 86,
     "metadata": {},
     "output_type": "execute_result"
    }
   ],
   "source": [
    "t > d"
   ]
  },
  {
   "cell_type": "code",
   "execution_count": 87,
   "metadata": {},
   "outputs": [
    {
     "data": {
      "text/plain": [
       "true"
      ]
     },
     "execution_count": 87,
     "metadata": {},
     "output_type": "execute_result"
    }
   ],
   "source": [
    "DateTime(2020) < now()"
   ]
  },
  {
   "cell_type": "code",
   "execution_count": 88,
   "metadata": {},
   "outputs": [
    {
     "data": {
      "text/plain": [
       "true"
      ]
     },
     "execution_count": 88,
     "metadata": {},
     "output_type": "execute_result"
    }
   ],
   "source": [
    "DateTime(2020) == Date(2020)"
   ]
  },
  {
   "cell_type": "code",
   "execution_count": 89,
   "metadata": {},
   "outputs": [
    {
     "data": {
      "text/plain": [
       "3 months, 10 days, 15 hours"
      ]
     },
     "execution_count": 89,
     "metadata": {},
     "output_type": "execute_result"
    },
    {
     "name": "stdout",
     "output_type": "stream",
     "text": [
      "Step: 13\n"
     ]
    }
   ],
   "source": [
    "p = Month(3) + Day(10) + Hour(15)"
   ]
  },
  {
   "cell_type": "code",
   "execution_count": 90,
   "metadata": {},
   "outputs": [
    {
     "data": {
      "text/plain": [
       "Dates.CompoundPeriod"
      ]
     },
     "execution_count": 90,
     "metadata": {},
     "output_type": "execute_result"
    }
   ],
   "source": [
    "typeof(p)"
   ]
  },
  {
   "cell_type": "code",
   "execution_count": 91,
   "metadata": {},
   "outputs": [
    {
     "data": {
      "text/plain": [
       "2023-01-10T11:44:00.872"
      ]
     },
     "execution_count": 91,
     "metadata": {},
     "output_type": "execute_result"
    }
   ],
   "source": [
    "now() + p"
   ]
  },
  {
   "cell_type": "code",
   "execution_count": 92,
   "metadata": {},
   "outputs": [
    {
     "data": {
      "text/plain": [
       "2023-07-27"
      ]
     },
     "execution_count": 92,
     "metadata": {},
     "output_type": "execute_result"
    }
   ],
   "source": [
    "Date(now())+ Day(300)"
   ]
  },
  {
   "cell_type": "code",
   "execution_count": 93,
   "metadata": {},
   "outputs": [
    {
     "data": {
      "text/plain": [
       "86733840955 milliseconds"
      ]
     },
     "execution_count": 93,
     "metadata": {},
     "output_type": "execute_result"
    }
   ],
   "source": [
    "now() - DateTime(2020)"
   ]
  },
  {
   "cell_type": "code",
   "execution_count": 94,
   "metadata": {
    "scrolled": true
   },
   "outputs": [
    {
     "ename": "LoadError",
     "evalue": "MethodError: no method matching -(::DateTime, ::Date)\n\u001b[0mClosest candidates are:\n\u001b[0m  -(\u001b[91m::StridedArray{<:Union{Dates.CompoundPeriod, Period}}\u001b[39m, ::TimeType) at C:\\Users\\ACER\\AppData\\Local\\Programs\\Julia-1.8.1\\share\\julia\\stdlib\\v1.8\\Dates\\src\\deprecated.jl:26\n\u001b[0m  -(::TimeType, \u001b[91m::Dates.CompoundPeriod\u001b[39m) at C:\\Users\\ACER\\AppData\\Local\\Programs\\Julia-1.8.1\\share\\julia\\stdlib\\v1.8\\Dates\\src\\periods.jl:400\n\u001b[0m  -(::T, \u001b[91m::T\u001b[39m) where T<:TimeType at C:\\Users\\ACER\\AppData\\Local\\Programs\\Julia-1.8.1\\share\\julia\\stdlib\\v1.8\\Dates\\src\\arithmetic.jl:9\n\u001b[0m  ...",
     "output_type": "error",
     "traceback": [
      "MethodError: no method matching -(::DateTime, ::Date)\n\u001b[0mClosest candidates are:\n\u001b[0m  -(\u001b[91m::StridedArray{<:Union{Dates.CompoundPeriod, Period}}\u001b[39m, ::TimeType) at C:\\Users\\ACER\\AppData\\Local\\Programs\\Julia-1.8.1\\share\\julia\\stdlib\\v1.8\\Dates\\src\\deprecated.jl:26\n\u001b[0m  -(::TimeType, \u001b[91m::Dates.CompoundPeriod\u001b[39m) at C:\\Users\\ACER\\AppData\\Local\\Programs\\Julia-1.8.1\\share\\julia\\stdlib\\v1.8\\Dates\\src\\periods.jl:400\n\u001b[0m  -(::T, \u001b[91m::T\u001b[39m) where T<:TimeType at C:\\Users\\ACER\\AppData\\Local\\Programs\\Julia-1.8.1\\share\\julia\\stdlib\\v1.8\\Dates\\src\\arithmetic.jl:9\n\u001b[0m  ...",
      "",
      "Stacktrace:",
      " [1] top-level scope",
      "   @ In[94]:1",
      " [2] eval",
      "   @ .\\boot.jl:368 [inlined]",
      " [3] include_string(mapexpr::typeof(REPL.softscope), mod::Module, code::String, filename::String)",
      "   @ Base .\\loading.jl:1428"
     ]
    }
   ],
   "source": [
    "now() - Date(2020)"
   ]
  },
  {
   "cell_type": "code",
   "execution_count": 95,
   "metadata": {},
   "outputs": [
    {
     "name": "stdout",
     "output_type": "stream",
     "text": [
      "Step: 14\n"
     ]
    },
    {
     "data": {
      "text/plain": [
       "1003 days"
      ]
     },
     "execution_count": 95,
     "metadata": {},
     "output_type": "execute_result"
    }
   ],
   "source": [
    "Date(now()) - Date(2020)"
   ]
  },
  {
   "cell_type": "code",
   "execution_count": 96,
   "metadata": {},
   "outputs": [
    {
     "data": {
      "text/plain": [
       "2022 years"
      ]
     },
     "execution_count": 96,
     "metadata": {},
     "output_type": "execute_result"
    }
   ],
   "source": [
    "Year(now())"
   ]
  },
  {
   "cell_type": "code",
   "execution_count": 97,
   "metadata": {},
   "outputs": [
    {
     "data": {
      "text/plain": [
       "9 months"
      ]
     },
     "execution_count": 97,
     "metadata": {},
     "output_type": "execute_result"
    }
   ],
   "source": [
    "Month(now())"
   ]
  },
  {
   "cell_type": "code",
   "execution_count": 98,
   "metadata": {},
   "outputs": [
    {
     "data": {
      "text/plain": [
       "30 days"
      ]
     },
     "execution_count": 98,
     "metadata": {},
     "output_type": "execute_result"
    }
   ],
   "source": [
    "Day(now())"
   ]
  },
  {
   "cell_type": "code",
   "execution_count": 99,
   "metadata": {},
   "outputs": [
    {
     "data": {
      "text/plain": [
       "39 weeks"
      ]
     },
     "execution_count": 99,
     "metadata": {},
     "output_type": "execute_result"
    }
   ],
   "source": [
    "Week(now())"
   ]
  },
  {
   "cell_type": "code",
   "execution_count": 100,
   "metadata": {},
   "outputs": [
    {
     "name": "stdout",
     "output_type": "stream",
     "text": [
      "Step: 15\n"
     ]
    },
    {
     "data": {
      "text/plain": [
       "2022"
      ]
     },
     "execution_count": 100,
     "metadata": {},
     "output_type": "execute_result"
    }
   ],
   "source": [
    "year(now())"
   ]
  },
  {
   "cell_type": "code",
   "execution_count": 101,
   "metadata": {},
   "outputs": [
    {
     "data": {
      "text/plain": [
       "2022-11-24"
      ]
     },
     "execution_count": 101,
     "metadata": {},
     "output_type": "execute_result"
    }
   ],
   "source": [
    "tonext(today()) do d\n",
    "    dayofweek(d) == Thursday &&\n",
    "    dayofweekofmonth(d) == 4 &&\n",
    "    month(d) == November\n",
    "end"
   ]
  },
  {
   "cell_type": "markdown",
   "metadata": {},
   "source": [
    "### Logging\n",
    "\n",
    "Long running processes or servers running in Julia need to provide consistent and standard log reporting. This module helps create such reports. "
   ]
  },
  {
   "cell_type": "code",
   "execution_count": 102,
   "metadata": {},
   "outputs": [],
   "source": [
    "@debug \"This is a debug message $(sum(rand(100)))\""
   ]
  },
  {
   "cell_type": "code",
   "execution_count": 103,
   "metadata": {},
   "outputs": [
    {
     "name": "stderr",
     "output_type": "stream",
     "text": [
      "┌ Info: This message is just informational\n",
      "└ @ Main In[103]:1\n"
     ]
    }
   ],
   "source": [
    "@info \"This message is just informational\""
   ]
  },
  {
   "cell_type": "code",
   "execution_count": 104,
   "metadata": {},
   "outputs": [
    {
     "name": "stderr",
     "output_type": "stream",
     "text": [
      "┌ Warning: This is a warning message\n",
      "└ @ Main In[104]:1\n"
     ]
    }
   ],
   "source": [
    "@warn \"This is a warning message\""
   ]
  },
  {
   "cell_type": "code",
   "execution_count": 105,
   "metadata": {},
   "outputs": [
    {
     "name": "stderr",
     "output_type": "stream",
     "text": [
      "┌ Error: This is an error message\n",
      "└ @ Main In[105]:1\n"
     ]
    }
   ],
   "source": [
    "@error \"This is an error message\""
   ]
  },
  {
   "cell_type": "code",
   "execution_count": 106,
   "metadata": {},
   "outputs": [
    {
     "name": "stderr",
     "output_type": "stream",
     "text": [
      "┌ Info: A is all ones\n",
      "│   A = [1.0 1.0 1.0 1.0; 1.0 1.0 1.0 1.0; 1.0 1.0 1.0 1.0]\n",
      "└ @ Main In[106]:2\n"
     ]
    }
   ],
   "source": [
    "A = ones(3, 4)\n",
    "@info \"A is all ones\" A"
   ]
  },
  {
   "cell_type": "markdown",
   "metadata": {},
   "source": [
    "The `Logging` module provides interfaces to implement complete loggers. It also provides the ability to override the global logger with a different local one. "
   ]
  },
  {
   "cell_type": "code",
   "execution_count": 107,
   "metadata": {},
   "outputs": [],
   "source": [
    "using Logging"
   ]
  },
  {
   "cell_type": "code",
   "execution_count": 108,
   "metadata": {},
   "outputs": [
    {
     "name": "stdout",
     "output_type": "stream",
     "text": [
      "┌ Info: This is my simple info log\n",
      "└ @ Main In[108]:3\n",
      "┌ Error: This is an error written to file\n",
      "└ @ Main In[108]:4\n",
      "┌ Warning: This is a warning message\n",
      "└ @ Main In[108]:5\n",
      "┌ Info: Current logger is same as global logger\n",
      "│   current_logger() == global_logger() = false\n",
      "└ @ Main In[108]:6\n"
     ]
    }
   ],
   "source": [
    "open(\"file.log\", \"w\") do f\n",
    "    with_logger(SimpleLogger(f)) do\n",
    "        @info \"This is my simple info log\"\n",
    "        @error \"This is an error written to file\"\n",
    "        @warn \"This is a warning message\"\n",
    "        @info \"Current logger is same as global logger\" current_logger() == global_logger()\n",
    "    end\n",
    "end\n",
    "write(stdout, read(\"file.log\"));"
   ]
  },
  {
   "cell_type": "code",
   "execution_count": 109,
   "metadata": {},
   "outputs": [],
   "source": [
    "rm(\"file.log\")"
   ]
  },
  {
   "cell_type": "code",
   "execution_count": 110,
   "metadata": {},
   "outputs": [
    {
     "name": "stderr",
     "output_type": "stream",
     "text": [
      "┌ Info: Current logger is same as global logger\n",
      "│   current_logger() == global_logger() = true\n",
      "└ @ Main In[110]:1\n"
     ]
    }
   ],
   "source": [
    "@info \"Current logger is same as global logger\" current_logger() == global_logger()"
   ]
  },
  {
   "cell_type": "markdown",
   "metadata": {},
   "source": [
    "### Statistics\n",
    "\n",
    "This module provides simple functions for central tendencies like mean, median and standard deviations etc. Functions for correlations and covariances are also provided. However, the treatment of statistics in thi module are highly rudimentary. "
   ]
  },
  {
   "cell_type": "code",
   "execution_count": 111,
   "metadata": {},
   "outputs": [],
   "source": [
    "using Statistics"
   ]
  },
  {
   "cell_type": "code",
   "execution_count": 112,
   "metadata": {},
   "outputs": [
    {
     "data": {
      "text/plain": [
       "5.5"
      ]
     },
     "execution_count": 112,
     "metadata": {},
     "output_type": "execute_result"
    }
   ],
   "source": [
    "mean(1:10)"
   ]
  },
  {
   "cell_type": "code",
   "execution_count": 113,
   "metadata": {},
   "outputs": [
    {
     "name": "stdout",
     "output_type": "stream",
     "text": [
      "Step: 16\n"
     ]
    },
    {
     "data": {
      "text/plain": [
       "5.5"
      ]
     },
     "execution_count": 113,
     "metadata": {},
     "output_type": "execute_result"
    }
   ],
   "source": [
    "median(1:10)"
   ]
  },
  {
   "cell_type": "code",
   "execution_count": 114,
   "metadata": {},
   "outputs": [
    {
     "data": {
      "text/plain": [
       "3.0276503540974917"
      ]
     },
     "execution_count": 114,
     "metadata": {},
     "output_type": "execute_result"
    }
   ],
   "source": [
    "std(1:10)"
   ]
  },
  {
   "cell_type": "code",
   "execution_count": 115,
   "metadata": {},
   "outputs": [
    {
     "data": {
      "text/plain": [
       "9.166666666666666"
      ]
     },
     "execution_count": 115,
     "metadata": {},
     "output_type": "execute_result"
    }
   ],
   "source": [
    "var(1:10)"
   ]
  },
  {
   "cell_type": "code",
   "execution_count": 116,
   "metadata": {},
   "outputs": [
    {
     "data": {
      "text/plain": [
       "-0.12338368390746393"
      ]
     },
     "execution_count": 116,
     "metadata": {},
     "output_type": "execute_result"
    }
   ],
   "source": [
    "cor(1:10, rand(10))"
   ]
  },
  {
   "cell_type": "code",
   "execution_count": 117,
   "metadata": {},
   "outputs": [
    {
     "data": {
      "text/plain": [
       "1.0"
      ]
     },
     "execution_count": 117,
     "metadata": {},
     "output_type": "execute_result"
    }
   ],
   "source": [
    "cor(1:10, 11:20)"
   ]
  },
  {
   "cell_type": "code",
   "execution_count": 118,
   "metadata": {},
   "outputs": [
    {
     "data": {
      "text/plain": [
       "-0.08904586957103043"
      ]
     },
     "execution_count": 118,
     "metadata": {},
     "output_type": "execute_result"
    }
   ],
   "source": [
    "cov(1:10, rand(10))"
   ]
  },
  {
   "cell_type": "markdown",
   "metadata": {},
   "source": [
    "### Random Numbers\n",
    "\n",
    "Provides methods for random number generation and other permutation and combination functions. "
   ]
  },
  {
   "cell_type": "code",
   "execution_count": 119,
   "metadata": {},
   "outputs": [],
   "source": [
    "using Random"
   ]
  },
  {
   "cell_type": "code",
   "execution_count": 120,
   "metadata": {},
   "outputs": [
    {
     "data": {
      "text/plain": [
       "2-element Vector{Int64}:\n",
       " -2953195918062992480\n",
       "  7533823295185910339"
      ]
     },
     "execution_count": 120,
     "metadata": {},
     "output_type": "execute_result"
    }
   ],
   "source": [
    "rand(Int, 2)"
   ]
  },
  {
   "cell_type": "code",
   "execution_count": 121,
   "metadata": {},
   "outputs": [
    {
     "name": "stdout",
     "output_type": "stream",
     "text": [
      "Step: 17\n"
     ]
    },
    {
     "data": {
      "text/plain": [
       "2×3 Matrix{Float64}:\n",
       " 0.159478   0.595196  0.440281\n",
       " 0.0281745  0.403192  0.577707"
      ]
     },
     "execution_count": 121,
     "metadata": {},
     "output_type": "execute_result"
    }
   ],
   "source": [
    "rand(2, 3)"
   ]
  },
  {
   "cell_type": "code",
   "execution_count": 122,
   "metadata": {},
   "outputs": [
    {
     "data": {
      "text/plain": [
       "2×3 Matrix{Float64}:\n",
       " 0.943004  0.284251  0.54992\n",
       " 0.377371  0.820076  0.603596"
      ]
     },
     "execution_count": 122,
     "metadata": {},
     "output_type": "execute_result"
    }
   ],
   "source": [
    "rand!(zeros(2, 3))"
   ]
  },
  {
   "cell_type": "code",
   "execution_count": 123,
   "metadata": {},
   "outputs": [
    {
     "data": {
      "text/plain": [
       "2×3 Matrix{Int64}:\n",
       " 3  3  3\n",
       " 1  3  2"
      ]
     },
     "execution_count": 123,
     "metadata": {},
     "output_type": "execute_result"
    },
    {
     "name": "stdout",
     "output_type": "stream",
     "text": [
      "Step: 18\n",
      "Step: 19\n",
      "Step: 20\n",
      "Step: 21\n",
      "Step: 22\n",
      "Step: 23\n",
      "Step: 24\n",
      "Step: 25\n",
      "Step: 26\n",
      "Step: 27\n",
      "Step: 28\n",
      "Step: 29\n",
      "Step: 30\n",
      "Step: 31\n",
      "Step: 32\n",
      "Step: 33\n",
      "Step: 34\n",
      "Step: 35\n",
      "Step: 36\n",
      "Step: 37\n",
      "Step: 38\n",
      "Step: 39\n",
      "Step: 40\n",
      "Step: 41\n",
      "Step: 42\n",
      "Step: 43\n",
      "Step: 44\n",
      "Step: 45\n",
      "Step: 46\n",
      "Step: 47\n",
      "Step: 48\n",
      "Step: 49\n",
      "Step: 50\n",
      "Step: 51\n",
      "Step: 52\n",
      "Step: 53\n",
      "Step: 54\n",
      "Step: 55\n",
      "Step: 56\n",
      "Step: 57\n",
      "Step: 58\n",
      "Step: 59\n",
      "Step: 60\n",
      "Step: 61\n",
      "Step: 62\n",
      "Step: 63\n",
      "Step: 64\n",
      "Step: 65\n",
      "Step: 66\n",
      "Step: 67\n",
      "Step: 68\n",
      "Step: 69\n",
      "Step: 70\n",
      "Step: 71\n",
      "Step: 72\n",
      "Step: 73\n",
      "Step: 74\n",
      "Step: 75\n",
      "Step: 76\n",
      "Step: 77\n",
      "Step: 78\n",
      "Step: 79\n",
      "Step: 80\n",
      "Step: 81\n",
      "Step: 82\n",
      "Step: 83\n",
      "Step: 84\n"
     ]
    }
   ],
   "source": [
    "rand(1:4, (2, 3))"
   ]
  }
 ],
 "metadata": {
  "@webio": {
   "lastCommId": null,
   "lastKernelId": null
  },
  "kernelspec": {
   "display_name": "Julia 1.8.1",
   "language": "julia",
   "name": "julia-1.8"
  },
  "language_info": {
   "file_extension": ".jl",
   "mimetype": "application/julia",
   "name": "julia",
   "version": "1.8.1"
  }
 },
 "nbformat": 4,
 "nbformat_minor": 4
}
