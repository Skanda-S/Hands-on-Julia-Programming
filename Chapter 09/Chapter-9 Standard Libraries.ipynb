{
 "cells": [
  {
   "cell_type": "markdown",
   "metadata": {},
   "source": [
    "# Chapter-9 Standard Libraries\n",
    "This notebook contains the sample source code explained in the book *Hands-On Julia Programming, Sambit Kumar Dash, 2021, bpb Publications. All Rights Reserved*."
   ]
  },
  {
   "cell_type": "code",
   "execution_count": 1,
   "metadata": {},
   "outputs": [
    {
     "name": "stderr",
     "output_type": "stream",
     "text": [
      "\u001b[32m\u001b[1m  Activating\u001b[22m\u001b[39m environment at `~/work/books/HOPJ/Chapter-09/Project.toml`\n"
     ]
    }
   ],
   "source": [
    "using Pkg\n",
    "pkg\"activate .\"\n",
    "pkg\"instantiate\""
   ]
  },
  {
   "cell_type": "markdown",
   "metadata": {},
   "source": [
    "## 9.1 Introduction\n",
    "\n",
    "There are various functions and methods that are part of Julia already. A developer needs to use them directly rather than having to code for them. This chapter is a bird's eyeview of such methods. "
   ]
  },
  {
   "cell_type": "markdown",
   "metadata": {},
   "source": [
    "### Modules\n",
    "\n",
    "Namespaces where a method or a type reside. Using a method or type outside the module may require explicit qualification. "
   ]
  },
  {
   "cell_type": "code",
   "execution_count": 2,
   "metadata": {},
   "outputs": [
    {
     "data": {
      "text/plain": [
       "Main.m2"
      ]
     },
     "execution_count": 2,
     "metadata": {},
     "output_type": "execute_result"
    }
   ],
   "source": [
    "module m1\n",
    "    function f()\n",
    "        println(\"Defined as m1.f\")\n",
    "    end\n",
    "    function g()\n",
    "        println(\"Defined as m1.g\")\n",
    "    end\n",
    "    function h()\n",
    "        println(\"Defined as m1.h\")\n",
    "    end\n",
    "    export f\n",
    "end\n",
    "\n",
    "module m2\n",
    "    function f()\n",
    "        println(\"Defined as m2.f\")\n",
    "    end\n",
    "    function g()\n",
    "        println(\"Defined as m2.g\")\n",
    "    end\n",
    "    export g\n",
    "end"
   ]
  },
  {
   "cell_type": "code",
   "execution_count": 3,
   "metadata": {},
   "outputs": [
    {
     "data": {
      "text/plain": [
       "2-element Vector{Symbol}:\n",
       " :f\n",
       " :m1"
      ]
     },
     "execution_count": 3,
     "metadata": {},
     "output_type": "execute_result"
    }
   ],
   "source": [
    "names(m1)"
   ]
  },
  {
   "cell_type": "code",
   "execution_count": 4,
   "metadata": {},
   "outputs": [
    {
     "data": {
      "text/plain": [
       "2-element Vector{Symbol}:\n",
       " :g\n",
       " :m2"
      ]
     },
     "execution_count": 4,
     "metadata": {},
     "output_type": "execute_result"
    }
   ],
   "source": [
    "names(m2)"
   ]
  },
  {
   "cell_type": "code",
   "execution_count": 5,
   "metadata": {},
   "outputs": [
    {
     "ename": "LoadError",
     "evalue": "UndefVarError: f not defined",
     "output_type": "error",
     "traceback": [
      "UndefVarError: f not defined",
      "",
      "Stacktrace:",
      " [1] top-level scope",
      "   @ In[5]:1",
      " [2] eval",
      "   @ ./boot.jl:360 [inlined]",
      " [3] include_string(mapexpr::typeof(REPL.softscope), mod::Module, code::String, filename::String)",
      "   @ Base ./loading.jl:1094"
     ]
    }
   ],
   "source": [
    "f()"
   ]
  },
  {
   "cell_type": "code",
   "execution_count": 6,
   "metadata": {},
   "outputs": [
    {
     "name": "stdout",
     "output_type": "stream",
     "text": [
      "Defined as m1.f\n"
     ]
    }
   ],
   "source": [
    "m1.f()"
   ]
  },
  {
   "cell_type": "code",
   "execution_count": 7,
   "metadata": {},
   "outputs": [
    {
     "name": "stdout",
     "output_type": "stream",
     "text": [
      "Defined as m2.f\n"
     ]
    }
   ],
   "source": [
    "m2.f()"
   ]
  },
  {
   "cell_type": "code",
   "execution_count": 8,
   "metadata": {},
   "outputs": [],
   "source": [
    "using .m1"
   ]
  },
  {
   "cell_type": "code",
   "execution_count": 9,
   "metadata": {},
   "outputs": [
    {
     "name": "stdout",
     "output_type": "stream",
     "text": [
      "Defined as m1.f\n"
     ]
    }
   ],
   "source": [
    "f()"
   ]
  },
  {
   "cell_type": "code",
   "execution_count": 10,
   "metadata": {},
   "outputs": [
    {
     "ename": "LoadError",
     "evalue": "UndefVarError: g not defined",
     "output_type": "error",
     "traceback": [
      "UndefVarError: g not defined",
      "",
      "Stacktrace:",
      " [1] top-level scope",
      "   @ In[10]:1",
      " [2] eval",
      "   @ ./boot.jl:360 [inlined]",
      " [3] include_string(mapexpr::typeof(REPL.softscope), mod::Module, code::String, filename::String)",
      "   @ Base ./loading.jl:1094"
     ]
    }
   ],
   "source": [
    "g()"
   ]
  },
  {
   "cell_type": "code",
   "execution_count": 11,
   "metadata": {},
   "outputs": [],
   "source": [
    "using Main.m2"
   ]
  },
  {
   "cell_type": "code",
   "execution_count": 12,
   "metadata": {},
   "outputs": [
    {
     "name": "stdout",
     "output_type": "stream",
     "text": [
      "Defined as m2.g\n"
     ]
    }
   ],
   "source": [
    "g()"
   ]
  },
  {
   "cell_type": "code",
   "execution_count": 13,
   "metadata": {},
   "outputs": [
    {
     "name": "stderr",
     "output_type": "stream",
     "text": [
      "WARNING: ignoring conflicting import of m1.g into Main\n"
     ]
    }
   ],
   "source": [
    "using .m1: g"
   ]
  },
  {
   "cell_type": "code",
   "execution_count": 14,
   "metadata": {},
   "outputs": [
    {
     "name": "stdout",
     "output_type": "stream",
     "text": [
      "Defined as m2.g\n"
     ]
    }
   ],
   "source": [
    "g()"
   ]
  },
  {
   "cell_type": "code",
   "execution_count": 15,
   "metadata": {},
   "outputs": [],
   "source": [
    "using .m1: h"
   ]
  },
  {
   "cell_type": "code",
   "execution_count": 16,
   "metadata": {},
   "outputs": [
    {
     "name": "stdout",
     "output_type": "stream",
     "text": [
      "Defined as m1.h\n"
     ]
    }
   ],
   "source": [
    "h()"
   ]
  },
  {
   "cell_type": "markdown",
   "metadata": {},
   "source": [
    "## 9.2 Standard Modules\n",
    "\n",
    "`Core`, `Base` and `Main` the bare minimum modules of a Julia shell. `m1` and `m2` here are submodules of `Main`."
   ]
  },
  {
   "cell_type": "code",
   "execution_count": 17,
   "metadata": {},
   "outputs": [
    {
     "data": {
      "text/latex": [
       "\\begin{tabular}\n",
       "{l | r | l}\n",
       "name & size & summary \\\\\n",
       "\\hline\n",
       "Base &  & Module \\\\\n",
       "Core &  & Module \\\\\n",
       "Main &  & Module \\\\\n",
       "m1 & 6.489 KiB & Module \\\\\n",
       "m2 & 5.608 KiB & Module \\\\\n",
       "\\end{tabular}\n"
      ],
      "text/markdown": [
       "| name |      size | summary |\n",
       "|:---- | ---------:|:------- |\n",
       "| Base |           | Module  |\n",
       "| Core |           | Module  |\n",
       "| Main |           | Module  |\n",
       "| m1   | 6.489 KiB | Module  |\n",
       "| m2   | 5.608 KiB | Module  |\n"
      ],
      "text/plain": [
       "  name      size summary\n",
       "  –––– ––––––––– –––––––\n",
       "  Base           Module \n",
       "  Core           Module \n",
       "  Main           Module \n",
       "  m1   6.489 KiB Module \n",
       "  m2   5.608 KiB Module "
      ]
     },
     "execution_count": 17,
     "metadata": {},
     "output_type": "execute_result"
    }
   ],
   "source": [
    "varinfo()"
   ]
  },
  {
   "cell_type": "code",
   "execution_count": 18,
   "metadata": {},
   "outputs": [
    {
     "data": {
      "text/plain": [
       "1"
      ]
     },
     "execution_count": 18,
     "metadata": {},
     "output_type": "execute_result"
    }
   ],
   "source": [
    "x = 1"
   ]
  },
  {
   "cell_type": "code",
   "execution_count": 19,
   "metadata": {},
   "outputs": [
    {
     "data": {
      "text/latex": [
       "\\begin{tabular}\n",
       "{l | r | l}\n",
       "name & size & summary \\\\\n",
       "\\hline\n",
       "Base &  & Module \\\\\n",
       "Core &  & Module \\\\\n",
       "Main &  & Module \\\\\n",
       "m1 & 6.489 KiB & Module \\\\\n",
       "m2 & 5.608 KiB & Module \\\\\n",
       "x & 8 bytes & Int64 \\\\\n",
       "\\end{tabular}\n"
      ],
      "text/markdown": [
       "| name |      size | summary |\n",
       "|:---- | ---------:|:------- |\n",
       "| Base |           | Module  |\n",
       "| Core |           | Module  |\n",
       "| Main |           | Module  |\n",
       "| m1   | 6.489 KiB | Module  |\n",
       "| m2   | 5.608 KiB | Module  |\n",
       "| x    |   8 bytes | Int64   |\n"
      ],
      "text/plain": [
       "  name      size summary\n",
       "  –––– ––––––––– –––––––\n",
       "  Base           Module \n",
       "  Core           Module \n",
       "  Main           Module \n",
       "  m1   6.489 KiB Module \n",
       "  m2   5.608 KiB Module \n",
       "  x      8 bytes Int64  "
      ]
     },
     "execution_count": 19,
     "metadata": {},
     "output_type": "execute_result"
    }
   ],
   "source": [
    "varinfo()"
   ]
  },
  {
   "cell_type": "markdown",
   "metadata": {},
   "source": [
    "## 9.3 System\n",
    "\n",
    "The submodule that interacts with the operating system. System command execution being one of them. "
   ]
  },
  {
   "cell_type": "code",
   "execution_count": 20,
   "metadata": {},
   "outputs": [
    {
     "ename": "LoadError",
     "evalue": "IOError: could not spawn `cmd /c dir`: no such file or directory (ENOENT)",
     "output_type": "error",
     "traceback": [
      "IOError: could not spawn `cmd /c dir`: no such file or directory (ENOENT)",
      "",
      "Stacktrace:",
      " [1] _spawn_primitive(file::String, cmd::Cmd, stdio::Vector{Any})",
      "   @ Base ./process.jl:99",
      " [2] #637",
      "   @ ./process.jl:112 [inlined]",
      " [3] setup_stdios(f::Base.var\"#637#638\"{Cmd}, stdios::Vector{Any})",
      "   @ Base ./process.jl:196",
      " [4] _spawn",
      "   @ ./process.jl:111 [inlined]",
      " [5] run(::Cmd; wait::Bool)",
      "   @ Base ./process.jl:439",
      " [6] run(::Cmd)",
      "   @ Base ./process.jl:438",
      " [7] top-level scope",
      "   @ In[20]:1",
      " [8] eval",
      "   @ ./boot.jl:360 [inlined]",
      " [9] include_string(mapexpr::typeof(REPL.softscope), mod::Module, code::String, filename::String)",
      "   @ Base ./loading.jl:1094"
     ]
    }
   ],
   "source": [
    "run(`cmd /c dir`)"
   ]
  },
  {
   "cell_type": "code",
   "execution_count": 21,
   "metadata": {},
   "outputs": [
    {
     "data": {
      "text/plain": [
       "(true, false)"
      ]
     },
     "execution_count": 21,
     "metadata": {},
     "output_type": "execute_result"
    }
   ],
   "source": [
    "Sys.isunix(), Sys.iswindows()"
   ]
  },
  {
   "cell_type": "markdown",
   "metadata": {},
   "source": [
    "## 9.4 Filesystem\n",
    "\n",
    "File organization and manipulation (not read and write). "
   ]
  },
  {
   "cell_type": "code",
   "execution_count": 22,
   "metadata": {},
   "outputs": [
    {
     "data": {
      "text/plain": [
       "\"/home/sambit/work/books/HOPJ/Chapter-09\""
      ]
     },
     "execution_count": 22,
     "metadata": {},
     "output_type": "execute_result"
    }
   ],
   "source": [
    "old_dir = pwd()"
   ]
  },
  {
   "cell_type": "code",
   "execution_count": 23,
   "metadata": {},
   "outputs": [],
   "source": [
    "cd(\"..\")"
   ]
  },
  {
   "cell_type": "code",
   "execution_count": 24,
   "metadata": {},
   "outputs": [
    {
     "data": {
      "text/plain": [
       "\"/home/sambit/work/books/HOPJ\""
      ]
     },
     "execution_count": 24,
     "metadata": {},
     "output_type": "execute_result"
    }
   ],
   "source": [
    "pwd()"
   ]
  },
  {
   "cell_type": "code",
   "execution_count": 25,
   "metadata": {},
   "outputs": [],
   "source": [
    "cd(old_dir)"
   ]
  },
  {
   "cell_type": "code",
   "execution_count": 26,
   "metadata": {},
   "outputs": [
    {
     "data": {
      "text/plain": [
       "\"/home/sambit/work/books/HOPJ/Chapter-09\""
      ]
     },
     "execution_count": 26,
     "metadata": {},
     "output_type": "execute_result"
    }
   ],
   "source": [
    "pwd()"
   ]
  },
  {
   "cell_type": "code",
   "execution_count": 27,
   "metadata": {},
   "outputs": [
    {
     "data": {
      "text/plain": [
       "\"/home/sambit/work/books/HOPJ\""
      ]
     },
     "execution_count": 27,
     "metadata": {},
     "output_type": "execute_result"
    }
   ],
   "source": [
    "cd(\"..\"); pwd()"
   ]
  },
  {
   "cell_type": "code",
   "execution_count": 28,
   "metadata": {},
   "outputs": [
    {
     "data": {
      "text/plain": [
       "20-element Vector{String}:\n",
       " \".git\"\n",
       " \".github\"\n",
       " \".gitignore\"\n",
       " \"Chapter-02\"\n",
       " \"Chapter-03\"\n",
       " \"Chapter-04\"\n",
       " \"Chapter-05\"\n",
       " \"Chapter-06\"\n",
       " \"Chapter-07\"\n",
       " \"Chapter-08\"\n",
       " \"Chapter-09\"\n",
       " \"Chapter-10\"\n",
       " \"Chapter-11\"\n",
       " \"Chapter-12\"\n",
       " \"Chapter-13\"\n",
       " \"Chapter-14\"\n",
       " \"Chapter-15\"\n",
       " \"Chapter-16\"\n",
       " \"Chapter-17\"\n",
       " \"manifests\""
      ]
     },
     "execution_count": 28,
     "metadata": {},
     "output_type": "execute_result"
    }
   ],
   "source": [
    "readdir()  #Same as readdir(pwd())"
   ]
  },
  {
   "cell_type": "code",
   "execution_count": 29,
   "metadata": {},
   "outputs": [
    {
     "name": "stdout",
     "output_type": "stream",
     "text": [
      "Directories in Chapter-09\n",
      "Chapter-09/.ipynb_checkpoints\n",
      "Files in Chapter-09\n",
      "Chapter-09/Chapter-9 Standard Libraries.ipynb\n",
      "Chapter-09/Manifest.toml\n",
      "Chapter-09/Project.toml\n",
      "Directories in Chapter-09/.ipynb_checkpoints\n",
      "Files in Chapter-09/.ipynb_checkpoints\n",
      "Chapter-09/.ipynb_checkpoints/Chapter-9 Standard Libraries-checkpoint.ipynb\n"
     ]
    }
   ],
   "source": [
    "for (root, dirs, files) in walkdir(\"Chapter-09\")\n",
    "    println(\"Directories in $root\")\n",
    "    for dir in dirs\n",
    "        println(joinpath(root, dir)) # path to directories\n",
    "    end\n",
    "    println(\"Files in $root\")\n",
    "    for file in files\n",
    "        println(joinpath(root, file)) # path to files\n",
    "    end\n",
    "end"
   ]
  },
  {
   "cell_type": "code",
   "execution_count": 30,
   "metadata": {},
   "outputs": [
    {
     "data": {
      "text/plain": [
       "\"/home/sambit/work/books/HOPJ/Chapter-09\""
      ]
     },
     "execution_count": 30,
     "metadata": {},
     "output_type": "execute_result"
    }
   ],
   "source": [
    "cd(old_dir); pwd()"
   ]
  },
  {
   "cell_type": "code",
   "execution_count": 31,
   "metadata": {},
   "outputs": [
    {
     "data": {
      "text/plain": [
       "StatStruct(mode=0o100664, size=64819)"
      ]
     },
     "execution_count": 31,
     "metadata": {},
     "output_type": "execute_result"
    }
   ],
   "source": [
    "fs = stat(\"Chapter-9 Standard Libraries.ipynb\")"
   ]
  },
  {
   "cell_type": "markdown",
   "metadata": {},
   "source": [
    "## 9.5 Parallel Programming\n",
    "\n",
    "Execution of programs in tandem in various execution environments, yet be able to obtain meaningful and synchronized results. Performance and resource utilization are two major outcomes of this kind of programming. "
   ]
  },
  {
   "cell_type": "markdown",
   "metadata": {},
   "source": [
    "### Asynchronous Programming\n",
    "\n",
    "Breaking the code into small chunks of executable pieces that can be executed in parallel. Depending on the kind of processing permitted by the hardware and OS, these may run in one execution thread or multiple."
   ]
  },
  {
   "cell_type": "markdown",
   "metadata": {},
   "source": [
    "#### Tasks"
   ]
  },
  {
   "cell_type": "code",
   "execution_count": 32,
   "metadata": {},
   "outputs": [
    {
     "data": {
      "text/plain": [
       "Task (runnable) @0x00007f916a6e5270"
      ]
     },
     "execution_count": 32,
     "metadata": {},
     "output_type": "execute_result"
    }
   ],
   "source": [
    "t = Task() do \n",
    "    sleep(10)\n",
    "    println(\"done\")\n",
    "end"
   ]
  },
  {
   "cell_type": "code",
   "execution_count": 33,
   "metadata": {},
   "outputs": [
    {
     "data": {
      "text/plain": [
       "Task (runnable) @0x00007f916a6e5270"
      ]
     },
     "execution_count": 33,
     "metadata": {},
     "output_type": "execute_result"
    }
   ],
   "source": [
    "schedule(t)"
   ]
  },
  {
   "cell_type": "code",
   "execution_count": 34,
   "metadata": {},
   "outputs": [
    {
     "data": {
      "text/plain": [
       "Task (runnable) @0x00007f913ff52e00"
      ]
     },
     "execution_count": 34,
     "metadata": {},
     "output_type": "execute_result"
    }
   ],
   "source": [
    "t = Task() do \n",
    "    sleep(10)\n",
    "    println(\"done\")\n",
    "end"
   ]
  },
  {
   "cell_type": "code",
   "execution_count": 35,
   "metadata": {},
   "outputs": [
    {
     "name": "stdout",
     "output_type": "stream",
     "text": [
      "done\n",
      "done\n"
     ]
    }
   ],
   "source": [
    "schedule(t); wait(t)"
   ]
  },
  {
   "cell_type": "code",
   "execution_count": 36,
   "metadata": {},
   "outputs": [
    {
     "data": {
      "text/plain": [
       "Task (runnable) @0x00007f91682b30a0"
      ]
     },
     "execution_count": 36,
     "metadata": {},
     "output_type": "execute_result"
    }
   ],
   "source": [
    "t = @task begin\n",
    "    sleep(5)\n",
    "    println(\"done\")\n",
    "end"
   ]
  },
  {
   "cell_type": "code",
   "execution_count": 37,
   "metadata": {},
   "outputs": [
    {
     "name": "stdout",
     "output_type": "stream",
     "text": [
      "done\n"
     ]
    }
   ],
   "source": [
    "@sync  begin\n",
    "    sleep(5)\n",
    "    println(\"done\")\n",
    "end"
   ]
  },
  {
   "cell_type": "markdown",
   "metadata": {},
   "source": [
    "#### Channels"
   ]
  },
  {
   "cell_type": "code",
   "execution_count": 38,
   "metadata": {},
   "outputs": [
    {
     "data": {
      "text/plain": [
       "Channel{Any}(8) (empty)"
      ]
     },
     "execution_count": 38,
     "metadata": {},
     "output_type": "execute_result"
    }
   ],
   "source": [
    "c = Channel(8)"
   ]
  },
  {
   "cell_type": "code",
   "execution_count": 39,
   "metadata": {},
   "outputs": [
    {
     "data": {
      "text/plain": [
       "Channel{Int64}(4) (empty)"
      ]
     },
     "execution_count": 39,
     "metadata": {},
     "output_type": "execute_result"
    }
   ],
   "source": [
    "c = Channel{Int}(4)"
   ]
  },
  {
   "cell_type": "code",
   "execution_count": 40,
   "metadata": {},
   "outputs": [
    {
     "name": "stdout",
     "output_type": "stream",
     "text": [
      "Adding 1 to channel\n"
     ]
    },
    {
     "data": {
      "text/plain": [
       "Task (runnable) @0x00007f913f65d120"
      ]
     },
     "execution_count": 40,
     "metadata": {},
     "output_type": "execute_result"
    },
    {
     "name": "stdout",
     "output_type": "stream",
     "text": [
      "Adding 2 to channel\n",
      "Adding 3 to channel\n",
      "Adding 4 to channel\n",
      "Adding 5 to channel\n",
      "Adding 6 to channel\n",
      "Removing value: 1\n",
      "Removing value: 2\n",
      "Removing value: 3\n",
      "Removing value: 4\n",
      "Removing value: 5\n",
      "Removing value: 6\n",
      "Adding 7 to channel\n",
      "Adding 8 to channel\n",
      "Adding 9 to channel\n",
      "Adding 10 to channel\n",
      "Adding 11 to channel\n",
      "Adding 12 to channel\n",
      "Removing value: 7\n",
      "Removing value: 8\n",
      "Removing value: 9\n",
      "Removing value: 10\n",
      "Removing value: 11\n",
      "Removing value: 12\n",
      "Adding 13 to channel\n",
      "Adding 14 to channel\n",
      "Adding 15 to channel\n",
      "Adding 16 to channel\n",
      "Adding 17 to channel\n",
      "Adding 18 to channel\n",
      "Removing value: 13\n",
      "Removing value: 14\n",
      "Removing value: 15\n",
      "Removing value: 16\n",
      "Removing value: 17\n",
      "Removing value: 18\n",
      "Adding 19 to channel\n",
      "Adding 20 to channel\n",
      "Adding 21 to channel\n",
      "Adding 22 to channel\n",
      "Adding 23 to channel\n",
      "Adding 24 to channel\n",
      "Removing value: 19\n",
      "Removing value: 20\n",
      "Removing value: 21\n",
      "Removing value: 22\n",
      "Removing value: 23\n",
      "Removing value: 24\n",
      "Adding 25 to channel\n",
      "Adding 26 to channel\n",
      "Adding 27 to channel\n",
      "Adding 28 to channel\n",
      "Adding 29 to channel\n",
      "Adding 30 to channel\n",
      "Removing value: 25\n",
      "Removing value: 26\n",
      "Removing value: 27\n",
      "Removing value: 28\n",
      "Removing value: 29\n",
      "Removing value: 30\n",
      "Adding 31 to channel\n",
      "Adding 32 to channel\n",
      "Adding 33 to channel\n",
      "Adding 34 to channel\n",
      "Adding 35 to channel\n",
      "Adding 36 to channel\n",
      "Removing value: 31\n",
      "Removing value: 32\n",
      "Removing value: 33\n",
      "Removing value: 34\n",
      "Removing value: 35\n",
      "Removing value: 36\n",
      "Adding 37 to channel\n",
      "Adding 38 to channel\n",
      "Adding 39 to channel\n",
      "Adding 40 to channel\n",
      "Adding 41 to channel\n",
      "Adding 42 to channel\n",
      "Removing value: 37\n",
      "Removing value: 38\n",
      "Removing value: 39\n",
      "Removing value: 40\n",
      "Removing value: 41\n",
      "Removing value: 42\n",
      "Adding 43 to channel\n",
      "Adding 44 to channel\n",
      "Adding 45 to channel\n",
      "Adding 46 to channel\n",
      "Adding 47 to channel\n",
      "Adding 48 to channel\n",
      "Removing value: 43\n",
      "Removing value: 44\n",
      "Removing value: 45\n",
      "Removing value: 46\n",
      "Removing value: 47\n",
      "Removing value: 48\n",
      "Adding 49 to channel\n",
      "Adding 50 to channel\n",
      "Adding 51 to channel\n",
      "Adding 52 to channel\n",
      "Adding 53 to channel\n",
      "Adding 54 to channel\n",
      "Removing value: 49\n",
      "Removing value: 50\n",
      "Removing value: 51\n",
      "Removing value: 52\n",
      "Removing value: 53\n",
      "Removing value: 54\n",
      "Adding 55 to channel\n",
      "Adding 56 to channel\n",
      "Adding 57 to channel\n",
      "Adding 58 to channel\n",
      "Adding 59 to channel\n",
      "Adding 60 to channel\n",
      "Removing value: 55\n",
      "Removing value: 56\n",
      "Removing value: 57\n",
      "Removing value: 58\n",
      "Removing value: 59\n",
      "Removing value: 60\n",
      "Adding 61 to channel\n",
      "Adding 62 to channel\n",
      "Adding 63 to channel\n",
      "Adding 64 to channel\n",
      "Adding 65 to channel\n",
      "Adding 66 to channel\n",
      "Removing value: 61\n",
      "Removing value: 62\n",
      "Removing value: 63\n",
      "Removing value: 64\n",
      "Removing value: 65\n",
      "Removing value: 66\n",
      "Adding 67 to channel\n",
      "Adding 68 to channel\n",
      "Adding 69 to channel\n",
      "Adding 70 to channel\n",
      "Adding 71 to channel\n",
      "Adding 72 to channel\n",
      "Removing value: 67\n",
      "Removing value: 68\n",
      "Removing value: 69\n",
      "Removing value: 70\n",
      "Removing value: 71\n",
      "Removing value: 72\n",
      "Adding 73 to channel\n",
      "Adding 74 to channel\n",
      "Adding 75 to channel\n",
      "Adding 76 to channel\n",
      "Adding 77 to channel\n",
      "Adding 78 to channel\n",
      "Removing value: 73\n",
      "Removing value: 74\n",
      "Removing value: 75\n",
      "Removing value: 76\n",
      "Removing value: 77\n",
      "Removing value: 78\n",
      "Adding 79 to channel\n",
      "Adding 80 to channel\n",
      "Adding 81 to channel\n",
      "Adding 82 to channel\n",
      "Adding 83 to channel\n",
      "Adding 84 to channel\n",
      "Removing value: 79\n",
      "Removing value: 80\n",
      "Removing value: 81\n",
      "Removing value: 82\n",
      "Removing value: 83\n",
      "Removing value: 84\n",
      "Adding 85 to channel\n",
      "Adding 86 to channel\n",
      "Adding 87 to channel\n",
      "Adding 88 to channel\n",
      "Adding 89 to channel\n",
      "Adding 90 to channel\n",
      "Removing value: 85\n",
      "Removing value: 86\n",
      "Removing value: 87\n",
      "Removing value: 88\n",
      "Removing value: 89\n",
      "Removing value: 90\n",
      "Adding 91 to channel\n",
      "Adding 92 to channel\n",
      "Adding 93 to channel\n",
      "Adding 94 to channel\n",
      "Adding 95 to channel\n",
      "Adding 96 to channel\n",
      "Removing value: 91\n",
      "Removing value: 92\n",
      "Removing value: 93\n",
      "Removing value: 94\n",
      "Removing value: 95\n",
      "Removing value: 96\n",
      "Adding 97 to channel\n",
      "Adding 98 to channel\n",
      "Adding 99 to channel\n",
      "Adding 100 to channel\n",
      "Removing value: 97\n",
      "Removing value: 98\n",
      "Removing value: 99\n",
      "Removing value: 100\n"
     ]
    }
   ],
   "source": [
    "@async begin\n",
    "    for i = 1:100\n",
    "        println(\"Adding $i to channel\")\n",
    "        put!(c, i)\n",
    "    end\n",
    "end\n",
    "\n",
    "@async begin\n",
    "    for i = 1:100\n",
    "        v = take!(c)\n",
    "        println(\"Removing value: $v\")\n",
    "    end\n",
    "end"
   ]
  },
  {
   "cell_type": "code",
   "execution_count": 41,
   "metadata": {},
   "outputs": [],
   "source": [
    "close(c)"
   ]
  },
  {
   "cell_type": "markdown",
   "metadata": {},
   "source": [
    "### Multithreading\n",
    "\n",
    "Julia can be made to run on a multiple threads mode. In such a conditions the tasks can be parallelized on these threads. Synchronization objects can be used across the executing threads. "
   ]
  },
  {
   "cell_type": "code",
   "execution_count": 42,
   "metadata": {},
   "outputs": [
    {
     "data": {
      "text/plain": [
       "1"
      ]
     },
     "execution_count": 42,
     "metadata": {},
     "output_type": "execute_result"
    }
   ],
   "source": [
    "Threads.nthreads()"
   ]
  },
  {
   "cell_type": "code",
   "execution_count": 43,
   "metadata": {},
   "outputs": [
    {
     "data": {
      "text/plain": [
       "Task (runnable) @0x00007f913ff13490"
      ]
     },
     "execution_count": 43,
     "metadata": {},
     "output_type": "execute_result"
    },
    {
     "name": "stdout",
     "output_type": "stream",
     "text": [
      "Step: 1\n",
      "Step: 2\n",
      "Step: 3\n",
      "Step: 4\n",
      "Step: 5\n",
      "Step: 6\n",
      "Step: 7\n",
      "Step: 8\n",
      "Step: 9\n",
      "Step: 10\n",
      "Step: 11\n",
      "Step: 12\n",
      "Step: 13\n",
      "Step: 14\n",
      "Step: 15\n",
      "Step: 16\n",
      "Step: 17\n",
      "Step: 18\n",
      "Step: 19\n",
      "Step: 20\n",
      "Step: 21\n",
      "Step: 22\n",
      "Step: 23\n",
      "Step: 24\n",
      "Step: 25\n",
      "Step: 26\n",
      "Step: 27\n",
      "Step: 28\n",
      "Step: 29\n",
      "Step: 30\n",
      "Step: 31\n",
      "Step: 32\n",
      "Step: 33\n",
      "Step: 34\n",
      "Step: 35\n",
      "Step: 36\n",
      "Step: 37\n",
      "Step: 38\n",
      "Step: 39\n",
      "Step: 40\n",
      "Step: 41\n",
      "Step: 42\n",
      "Step: 43\n",
      "Step: 44\n",
      "Step: 45\n",
      "Step: 46\n",
      "Step: 47\n",
      "Step: 48\n",
      "Step: 49\n",
      "Step: 50\n",
      "Step: 51\n",
      "Step: 52\n",
      "Step: 53\n",
      "Step: 54\n",
      "Step: 55\n",
      "Step: 56\n",
      "Step: 57\n",
      "Step: 58\n",
      "Step: 59\n",
      "Step: 60\n",
      "Step: 61\n",
      "Step: 62\n",
      "Step: 63\n",
      "Step: 64\n",
      "Step: 65\n",
      "Step: 66\n",
      "Step: 67\n",
      "Step: 68\n",
      "Step: 69\n",
      "Step: 70\n",
      "Step: 71\n",
      "Step: 72\n",
      "Step: 73\n",
      "Step: 74\n",
      "Step: 75\n",
      "Step: 76\n",
      "Step: 77\n",
      "Step: 78\n",
      "Step: 79\n",
      "Step: 80\n",
      "Step: 81\n",
      "Step: 82\n",
      "Step: 83\n",
      "Step: 84\n",
      "Step: 85\n",
      "Step: 86\n",
      "Step: 87\n",
      "Step: 88\n",
      "Step: 89\n",
      "Step: 90\n",
      "Step: 91\n",
      "Step: 92\n",
      "Step: 93\n",
      "Step: 94\n",
      "Step: 95\n",
      "Step: 96\n",
      "Step: 97\n",
      "Step: 98\n",
      "Step: 99\n",
      "Step: 100\n"
     ]
    }
   ],
   "source": [
    "Threads.@spawn for i=1:100\n",
    "    sleep(1)\n",
    "    println(\"Step: $i\")\n",
    "end"
   ]
  },
  {
   "cell_type": "markdown",
   "metadata": {},
   "source": [
    "### Distributed Computing\n",
    "\n",
    "This is cluster computing infrastrcuture, where a cluster can be configured across Julia processes in the same machine or in another machine. These independent processes can execute independently yet be able to share data, pass messages and communicate over a shared channel. "
   ]
  },
  {
   "cell_type": "markdown",
   "metadata": {},
   "source": [
    "## 9.6 IO and Network\n",
    "\n",
    "Julia accesses input and output devices as streams. The network devices are also interfaced like sockets. IO is an important stream based interface to understand. "
   ]
  },
  {
   "cell_type": "markdown",
   "metadata": {},
   "source": [
    "### Default Stream\n",
    "\n",
    "`stdin`, `stdout` and `stderr` are the standard streams for input, output and error in most processes. `stdin` integration with Jupyter is limited. All those samples may best be reviewed in a REPL console. "
   ]
  },
  {
   "cell_type": "code",
   "execution_count": 44,
   "metadata": {},
   "outputs": [
    {
     "name": "stdout",
     "output_type": "stream",
     "text": [
      "Hello World"
     ]
    },
    {
     "data": {
      "text/plain": [
       "11"
      ]
     },
     "execution_count": 44,
     "metadata": {},
     "output_type": "execute_result"
    }
   ],
   "source": [
    "write(stdout, \"Hello World\")"
   ]
  },
  {
   "cell_type": "code",
   "execution_count": 45,
   "metadata": {},
   "outputs": [
    {
     "name": "stdout",
     "output_type": "stream",
     "text": [
      "∀ x ∃ y"
     ]
    },
    {
     "data": {
      "text/plain": [
       "11"
      ]
     },
     "execution_count": 45,
     "metadata": {},
     "output_type": "execute_result"
    }
   ],
   "source": [
    "write(stdout, \"\\u2200 x \\u2203 y\")"
   ]
  },
  {
   "cell_type": "markdown",
   "metadata": {},
   "source": [
    "### Text I/O"
   ]
  },
  {
   "cell_type": "markdown",
   "metadata": {},
   "source": [
    "### Binary I/O"
   ]
  },
  {
   "cell_type": "markdown",
   "metadata": {},
   "source": [
    "### File I/O\n",
    "\n",
    "Files are also accessed as `IO` streams for both read and write operations. However, the `IO` streams are obtained by `open` call. Any open stream must be closed with a `close` function call. "
   ]
  },
  {
   "cell_type": "code",
   "execution_count": 46,
   "metadata": {},
   "outputs": [
    {
     "data": {
      "text/plain": [
       "11"
      ]
     },
     "execution_count": 46,
     "metadata": {},
     "output_type": "execute_result"
    }
   ],
   "source": [
    "write(\"hello.txt\", \"Hello World\")"
   ]
  },
  {
   "cell_type": "code",
   "execution_count": 47,
   "metadata": {},
   "outputs": [],
   "source": [
    "fd = open(\"hello.txt\", \"r\");\n",
    "data = read(fd);"
   ]
  },
  {
   "cell_type": "code",
   "execution_count": 48,
   "metadata": {},
   "outputs": [
    {
     "ename": "LoadError",
     "evalue": "ArgumentError: write failed, IOStream is not writeable",
     "output_type": "error",
     "traceback": [
      "ArgumentError: write failed, IOStream is not writeable",
      "",
      "Stacktrace:",
      " [1] unsafe_write(s::IOStream, p::Ptr{UInt8}, nb::UInt64)",
      "   @ Base ./iostream.jl:372",
      " [2] write(io::IOStream, s::String)",
      "   @ Base ./strings/io.jl:185",
      " [3] top-level scope",
      "   @ In[48]:1",
      " [4] eval",
      "   @ ./boot.jl:360 [inlined]",
      " [5] include_string(mapexpr::typeof(REPL.softscope), mod::Module, code::String, filename::String)",
      "   @ Base ./loading.jl:1094"
     ]
    }
   ],
   "source": [
    "write(fd, \"This is second line\")"
   ]
  },
  {
   "cell_type": "code",
   "execution_count": 49,
   "metadata": {},
   "outputs": [
    {
     "name": "stdout",
     "output_type": "stream",
     "text": [
      "Hello World"
     ]
    },
    {
     "data": {
      "text/plain": [
       "11"
      ]
     },
     "execution_count": 49,
     "metadata": {},
     "output_type": "execute_result"
    }
   ],
   "source": [
    "close(fd)\n",
    "write(stdout, data)"
   ]
  },
  {
   "cell_type": "code",
   "execution_count": 50,
   "metadata": {},
   "outputs": [
    {
     "name": "stdout",
     "output_type": "stream",
     "text": [
      "Hello World"
     ]
    },
    {
     "data": {
      "text/plain": [
       "11"
      ]
     },
     "execution_count": 50,
     "metadata": {},
     "output_type": "execute_result"
    }
   ],
   "source": [
    "open(\"hello.txt\", \"r\") do fd\n",
    "    data = read(fd)\n",
    "    write(stdout, data)\n",
    "end"
   ]
  },
  {
   "cell_type": "code",
   "execution_count": 51,
   "metadata": {},
   "outputs": [
    {
     "name": "stdout",
     "output_type": "stream",
     "text": [
      "Hello World"
     ]
    }
   ],
   "source": [
    "write(\"hello.txt\", \"Hello World\");\n",
    "data = read(\"hello.txt\");\n",
    "write(stdout, data);"
   ]
  },
  {
   "cell_type": "markdown",
   "metadata": {},
   "source": [
    "Files are opened for `read` or `write`. A file opened for reading cannot be written into.  "
   ]
  },
  {
   "cell_type": "code",
   "execution_count": 52,
   "metadata": {},
   "outputs": [
    {
     "name": "stdout",
     "output_type": "stream",
     "text": [
      "Hello World"
     ]
    }
   ],
   "source": [
    "open(\"hello.txt\", \"r\") do fd\n",
    "    while !eof(fd)\n",
    "        b = read(fd, 1)\n",
    "        write(stdout, b)\n",
    "    end\n",
    "end\n",
    "rm(\"hello.txt\")"
   ]
  },
  {
   "cell_type": "markdown",
   "metadata": {},
   "source": [
    "### Delimited Files\n",
    "\n",
    "Generalized command separated value (CSV) kind of files. Used extensively in spreadsheets. Also interfaced in data science applications as an easier way to share data. "
   ]
  },
  {
   "cell_type": "code",
   "execution_count": 53,
   "metadata": {},
   "outputs": [],
   "source": [
    "using DelimitedFiles\n",
    "x = collect(1:100);\n",
    "y = Float64.(collect(101:200));\n",
    "open(\"values.csv\", \"w\") do f\n",
    "    println(f, \"X,Y\")\n",
    "    writedlm(f, [x y], ',')\n",
    "end"
   ]
  },
  {
   "cell_type": "code",
   "execution_count": 54,
   "metadata": {},
   "outputs": [],
   "source": [
    "data, header = readdlm(\"values.csv\", ',', header=true);"
   ]
  },
  {
   "cell_type": "code",
   "execution_count": 55,
   "metadata": {},
   "outputs": [
    {
     "data": {
      "text/plain": [
       "100"
      ]
     },
     "execution_count": 55,
     "metadata": {},
     "output_type": "execute_result"
    }
   ],
   "source": [
    "size(data, 1)"
   ]
  },
  {
   "cell_type": "code",
   "execution_count": 56,
   "metadata": {},
   "outputs": [
    {
     "data": {
      "text/plain": [
       "1×2 Matrix{AbstractString}:\n",
       " \"X\"  \"Y\""
      ]
     },
     "execution_count": 56,
     "metadata": {},
     "output_type": "execute_result"
    }
   ],
   "source": [
    "header"
   ]
  },
  {
   "cell_type": "code",
   "execution_count": 57,
   "metadata": {},
   "outputs": [],
   "source": [
    "rm(\"values.csv\")"
   ]
  },
  {
   "cell_type": "markdown",
   "metadata": {},
   "source": [
    "### Network \n",
    "\n",
    "Just like files are opened with open to obtain the `IO` stream to interface, sockets are equivalent network communication end points to obtain connection streams. However, if you could use download method to provide a URL and download files. "
   ]
  },
  {
   "cell_type": "code",
   "execution_count": 58,
   "metadata": {},
   "outputs": [
    {
     "data": {
      "text/plain": [
       "\"julia-1.5.3.tar.gz\""
      ]
     },
     "execution_count": 58,
     "metadata": {},
     "output_type": "execute_result"
    }
   ],
   "source": [
    "download(\"https://github.com/JuliaLang/julia/releases/download/v1.5.3/julia-1.5.3.tar.gz\", \"julia-1.5.3.tar.gz\")"
   ]
  },
  {
   "cell_type": "code",
   "execution_count": 59,
   "metadata": {},
   "outputs": [
    {
     "data": {
      "text/plain": [
       "Task (runnable) @0x00007f913b0bcfd0"
      ]
     },
     "execution_count": 59,
     "metadata": {},
     "output_type": "execute_result"
    }
   ],
   "source": [
    "using Sockets\n",
    "@async begin\n",
    "    server = listen(3000)\n",
    "    while true\n",
    "        s = accept(server)\n",
    "        @async while isopen(s)\n",
    "            msg = readline(s, keep=true)\n",
    "            write(s, \"Server Response: $msg\")\n",
    "        end  \n",
    "    end\n",
    "end"
   ]
  },
  {
   "cell_type": "code",
   "execution_count": 60,
   "metadata": {},
   "outputs": [
    {
     "data": {
      "text/plain": [
       "Task (runnable) @0x00007f913fe63880"
      ]
     },
     "execution_count": 60,
     "metadata": {},
     "output_type": "execute_result"
    }
   ],
   "source": [
    "c = connect(3000)\n",
    "@async while isopen(c)\n",
    "    println(stdout, readline(c, keep=true))\n",
    "end"
   ]
  },
  {
   "cell_type": "code",
   "execution_count": 61,
   "metadata": {},
   "outputs": [
    {
     "name": "stdout",
     "output_type": "stream",
     "text": [
      "Server Response: Client Msg id: 1\n",
      "\n",
      "Server Response: Client Msg id: 2\n",
      "\n",
      "Server Response: Client Msg id: 3\n",
      "\n",
      "Server Response: Client Msg id: 4\n",
      "\n",
      "Server Response: Client Msg id: 5\n",
      "\n"
     ]
    }
   ],
   "source": [
    "for i = 1:5\n",
    "    println(c, \"Client Msg id: $i\")\n",
    "end"
   ]
  },
  {
   "cell_type": "code",
   "execution_count": 62,
   "metadata": {},
   "outputs": [
    {
     "name": "stdout",
     "output_type": "stream",
     "text": [
      "\n"
     ]
    }
   ],
   "source": [
    "close(c)"
   ]
  },
  {
   "cell_type": "markdown",
   "metadata": {},
   "source": [
    "### Memory I/O\n",
    "\n",
    "Strings cannot be manipulated. It may help to create a byte array for `IO` in the memory and use that for text manipulations. In the end the byte array can be converted to a String. "
   ]
  },
  {
   "cell_type": "code",
   "execution_count": 63,
   "metadata": {},
   "outputs": [
    {
     "data": {
      "text/plain": [
       "\"This is Line 1\\nThis is Line 2\\n\""
      ]
     },
     "execution_count": 63,
     "metadata": {},
     "output_type": "execute_result"
    }
   ],
   "source": [
    "io = IOBuffer()\n",
    "println(io, \"This is Line 1\")\n",
    "println(io, \"This is Line 2\")\n",
    "str = String(take!(io))"
   ]
  },
  {
   "cell_type": "code",
   "execution_count": 64,
   "metadata": {},
   "outputs": [
    {
     "data": {
      "text/plain": [
       "800"
      ]
     },
     "execution_count": 64,
     "metadata": {},
     "output_type": "execute_result"
    }
   ],
   "source": [
    "A = fill(10, (5, 20))\n",
    "A[2, 3] = 20\n",
    "open(\"mmap.bin\", \"w+\") do fd\n",
    "    write(fd, size(A, 1))\n",
    "    write(fd, size(A, 2))\n",
    "    write(fd, A)\n",
    "end"
   ]
  },
  {
   "cell_type": "markdown",
   "metadata": {},
   "source": [
    "Memory mapping is reverse problem. A file can be mapped to memory and accessed selectively page by page. This way the whole file need not be loaded in the memory. "
   ]
  },
  {
   "cell_type": "code",
   "execution_count": 65,
   "metadata": {},
   "outputs": [
    {
     "name": "stdout",
     "output_type": "stream",
     "text": [
      "A2[1, 1]: 10 A2[2, 3]: 20\n"
     ]
    }
   ],
   "source": [
    "using Mmap\n",
    "fd = open(\"mmap.bin\", \"r\")\n",
    "nr = read(fd, Int)\n",
    "nc = read(fd, Int)\n",
    "A2 = Mmap.mmap(fd, Matrix{Int}, (nr, nc))\n",
    "println(\"A2[1, 1]: \", A2[1, 1], \" A2[2, 3]: \", A2[2, 3])\n",
    "close(fd)"
   ]
  },
  {
   "cell_type": "code",
   "execution_count": 66,
   "metadata": {},
   "outputs": [],
   "source": [
    "A2 = nothing\n",
    "GC.gc()\n",
    "rm(\"mmap.bin\")"
   ]
  },
  {
   "cell_type": "markdown",
   "metadata": {},
   "source": [
    "## 9.7 Constants\n",
    "\n",
    "There are many system and Julia related constants. Mathematical constants are also defined in the standard library. "
   ]
  },
  {
   "cell_type": "code",
   "execution_count": 67,
   "metadata": {},
   "outputs": [
    {
     "data": {
      "text/plain": [
       "v\"1.6.0\""
      ]
     },
     "execution_count": 67,
     "metadata": {},
     "output_type": "execute_result"
    }
   ],
   "source": [
    "VERSION"
   ]
  },
  {
   "cell_type": "code",
   "execution_count": 68,
   "metadata": {},
   "outputs": [
    {
     "data": {
      "text/plain": [
       "Ptr{Nothing} @0x0000000000000000"
      ]
     },
     "execution_count": 68,
     "metadata": {},
     "output_type": "execute_result"
    }
   ],
   "source": [
    "C_NULL"
   ]
  },
  {
   "cell_type": "code",
   "execution_count": 69,
   "metadata": {},
   "outputs": [
    {
     "data": {
      "text/plain": [
       "\"/home/sambit/work/deps/julia/julia-1.6.0/bin\""
      ]
     },
     "execution_count": 69,
     "metadata": {},
     "output_type": "execute_result"
    }
   ],
   "source": [
    "Sys.BINDIR"
   ]
  },
  {
   "cell_type": "code",
   "execution_count": 70,
   "metadata": {},
   "outputs": [
    {
     "data": {
      "text/plain": [
       "4"
      ]
     },
     "execution_count": 70,
     "metadata": {},
     "output_type": "execute_result"
    }
   ],
   "source": [
    "Sys.CPU_THREADS"
   ]
  },
  {
   "cell_type": "code",
   "execution_count": 71,
   "metadata": {},
   "outputs": [
    {
     "data": {
      "text/plain": [
       "64"
      ]
     },
     "execution_count": 71,
     "metadata": {},
     "output_type": "execute_result"
    }
   ],
   "source": [
    "Sys.WORD_SIZE"
   ]
  },
  {
   "cell_type": "code",
   "execution_count": 72,
   "metadata": {},
   "outputs": [
    {
     "data": {
      "text/plain": [
       ":Linux"
      ]
     },
     "execution_count": 72,
     "metadata": {},
     "output_type": "execute_result"
    }
   ],
   "source": [
    "Sys.KERNEL"
   ]
  },
  {
   "cell_type": "code",
   "execution_count": 73,
   "metadata": {},
   "outputs": [
    {
     "data": {
      "text/plain": [
       "\"x86_64-pc-linux-gnu\""
      ]
     },
     "execution_count": 73,
     "metadata": {},
     "output_type": "execute_result"
    }
   ],
   "source": [
    "Sys.MACHINE"
   ]
  },
  {
   "cell_type": "code",
   "execution_count": 74,
   "metadata": {},
   "outputs": [
    {
     "data": {
      "text/plain": [
       ":x86_64"
      ]
     },
     "execution_count": 74,
     "metadata": {},
     "output_type": "execute_result"
    }
   ],
   "source": [
    "Sys.ARCH"
   ]
  },
  {
   "cell_type": "code",
   "execution_count": 75,
   "metadata": {},
   "outputs": [
    {
     "data": {
      "text/plain": [
       "Base.EnvDict with 71 entries:\n",
       "  \"SHELL\"                    => \"/bin/bash\"\n",
       "  \"SESSION_MANAGER\"          => \"local/ubutubu:@/tmp/.ICE-unix/9757,unix/ubutub…\n",
       "  \"QT_ACCESSIBILITY\"         => \"1\"\n",
       "  \"COLORTERM\"                => \"truecolor\"\n",
       "  \"XDG_CONFIG_DIRS\"          => \"/etc/xdg/xdg-ubuntu:/etc/xdg\"\n",
       "  \"XDG_MENU_PREFIX\"          => \"gnome-\"\n",
       "  \"GNOME_DESKTOP_SESSION_ID\" => \"this-is-deprecated\"\n",
       "  \"CONDA_EXE\"                => \"/home/sambit/anaconda3/bin/conda\"\n",
       "  \"_CE_M\"                    => \"\"\n",
       "  \"MANDATORY_PATH\"           => \"/usr/share/gconf/ubuntu.mandatory.path\"\n",
       "  \"JAVA_HOME\"                => \"/home/sambit/java\"\n",
       "  \"GNOME_SHELL_SESSION_MODE\" => \"ubuntu\"\n",
       "  \"JRE_HOME\"                 => \"/home/sambit/java\"\n",
       "  \"SSH_AUTH_SOCK\"            => \"/run/user/1000/keyring/ssh\"\n",
       "  \"XMODIFIERS\"               => \"@im=ibus\"\n",
       "  \"DESKTOP_SESSION\"          => \"ubuntu\"\n",
       "  \"SSH_AGENT_PID\"            => \"9715\"\n",
       "  \"GTK_MODULES\"              => \"gail:atk-bridge\"\n",
       "  \"PWD\"                      => \"/home/sambit/work/books/HOPJ/Chapter-02\"\n",
       "  \"LOGNAME\"                  => \"sambit\"\n",
       "  \"XDG_SESSION_DESKTOP\"      => \"ubuntu\"\n",
       "  \"SOFTHSM2_CONF\"            => \"/home/sambit/.config/softhsm/softhsm2.conf\"\n",
       "  \"XDG_SESSION_TYPE\"         => \"x11\"\n",
       "  \"CONDA_PREFIX\"             => \"/home/sambit/anaconda3\"\n",
       "  \"GPG_AGENT_INFO\"           => \"/run/user/1000/gnupg/S.gpg-agent:0:1\"\n",
       "  ⋮                          => ⋮"
      ]
     },
     "execution_count": 75,
     "metadata": {},
     "output_type": "execute_result"
    }
   ],
   "source": [
    "Sys.ENV"
   ]
  },
  {
   "cell_type": "code",
   "execution_count": 76,
   "metadata": {},
   "outputs": [
    {
     "data": {
      "text/plain": [
       "π = 3.1415926535897..."
      ]
     },
     "execution_count": 76,
     "metadata": {},
     "output_type": "execute_result"
    }
   ],
   "source": [
    "MathConstants.pi"
   ]
  },
  {
   "cell_type": "code",
   "execution_count": 77,
   "metadata": {},
   "outputs": [
    {
     "data": {
      "text/plain": [
       "ℯ = 2.7182818284590..."
      ]
     },
     "execution_count": 77,
     "metadata": {},
     "output_type": "execute_result"
    }
   ],
   "source": [
    "MathConstants.e"
   ]
  },
  {
   "cell_type": "markdown",
   "metadata": {},
   "source": [
    "## 9.8 Notable Modules\n",
    "\n",
    "Miscellaneous modules of Julia library. "
   ]
  },
  {
   "cell_type": "markdown",
   "metadata": {},
   "source": [
    "### Dates\n",
    "\n",
    "User renderable date and time representations. In the system the date is just a continuously increasing counter from a datum. These functions make meaningful period associations and provide the correct date and time. "
   ]
  },
  {
   "cell_type": "code",
   "execution_count": 78,
   "metadata": {},
   "outputs": [],
   "source": [
    "using Dates"
   ]
  },
  {
   "cell_type": "code",
   "execution_count": 79,
   "metadata": {},
   "outputs": [
    {
     "data": {
      "text/plain": [
       "2021-03-31T02:14:32.320"
      ]
     },
     "execution_count": 79,
     "metadata": {},
     "output_type": "execute_result"
    }
   ],
   "source": [
    "now()"
   ]
  },
  {
   "cell_type": "code",
   "execution_count": 80,
   "metadata": {},
   "outputs": [
    {
     "data": {
      "text/plain": [
       "2020-01-01T00:00:00"
      ]
     },
     "execution_count": 80,
     "metadata": {},
     "output_type": "execute_result"
    }
   ],
   "source": [
    "DateTime(2020)"
   ]
  },
  {
   "cell_type": "code",
   "execution_count": 81,
   "metadata": {},
   "outputs": [
    {
     "data": {
      "text/plain": [
       "2020-10-31T01:02:03"
      ]
     },
     "execution_count": 81,
     "metadata": {},
     "output_type": "execute_result"
    }
   ],
   "source": [
    "t = DateTime(2020, 10, 31, 01, 02, 03)"
   ]
  },
  {
   "cell_type": "code",
   "execution_count": 82,
   "metadata": {},
   "outputs": [
    {
     "data": {
      "text/plain": [
       "2020-01-01"
      ]
     },
     "execution_count": 82,
     "metadata": {},
     "output_type": "execute_result"
    }
   ],
   "source": [
    "Date(2020)"
   ]
  },
  {
   "cell_type": "code",
   "execution_count": 83,
   "metadata": {},
   "outputs": [
    {
     "data": {
      "text/plain": [
       "2020-10-31"
      ]
     },
     "execution_count": 83,
     "metadata": {},
     "output_type": "execute_result"
    }
   ],
   "source": [
    "d = Date(t)"
   ]
  },
  {
   "cell_type": "code",
   "execution_count": 84,
   "metadata": {},
   "outputs": [
    {
     "data": {
      "text/plain": [
       "2020-10-31T00:00:00"
      ]
     },
     "execution_count": 84,
     "metadata": {},
     "output_type": "execute_result"
    }
   ],
   "source": [
    "DateTime(d)"
   ]
  },
  {
   "cell_type": "code",
   "execution_count": 85,
   "metadata": {},
   "outputs": [
    {
     "data": {
      "text/plain": [
       "true"
      ]
     },
     "execution_count": 85,
     "metadata": {},
     "output_type": "execute_result"
    }
   ],
   "source": [
    "t > d"
   ]
  },
  {
   "cell_type": "code",
   "execution_count": 86,
   "metadata": {},
   "outputs": [
    {
     "data": {
      "text/plain": [
       "true"
      ]
     },
     "execution_count": 86,
     "metadata": {},
     "output_type": "execute_result"
    }
   ],
   "source": [
    "DateTime(2020) < now()"
   ]
  },
  {
   "cell_type": "code",
   "execution_count": 87,
   "metadata": {},
   "outputs": [
    {
     "data": {
      "text/plain": [
       "true"
      ]
     },
     "execution_count": 87,
     "metadata": {},
     "output_type": "execute_result"
    }
   ],
   "source": [
    "DateTime(2020) == Date(2020)"
   ]
  },
  {
   "cell_type": "code",
   "execution_count": 88,
   "metadata": {},
   "outputs": [
    {
     "data": {
      "text/plain": [
       "3 months, 10 days, 15 hours"
      ]
     },
     "execution_count": 88,
     "metadata": {},
     "output_type": "execute_result"
    }
   ],
   "source": [
    "p = Month(3) + Day(10) + Hour(15)"
   ]
  },
  {
   "cell_type": "code",
   "execution_count": 89,
   "metadata": {},
   "outputs": [
    {
     "data": {
      "text/plain": [
       "Dates.CompoundPeriod"
      ]
     },
     "execution_count": 89,
     "metadata": {},
     "output_type": "execute_result"
    }
   ],
   "source": [
    "typeof(p)"
   ]
  },
  {
   "cell_type": "code",
   "execution_count": 90,
   "metadata": {},
   "outputs": [
    {
     "data": {
      "text/plain": [
       "2021-07-10T17:14:53.729"
      ]
     },
     "execution_count": 90,
     "metadata": {},
     "output_type": "execute_result"
    }
   ],
   "source": [
    "now() + p"
   ]
  },
  {
   "cell_type": "code",
   "execution_count": 91,
   "metadata": {},
   "outputs": [
    {
     "data": {
      "text/plain": [
       "2022-01-25"
      ]
     },
     "execution_count": 91,
     "metadata": {},
     "output_type": "execute_result"
    }
   ],
   "source": [
    "Date(now())+ Day(300)"
   ]
  },
  {
   "cell_type": "code",
   "execution_count": 92,
   "metadata": {},
   "outputs": [
    {
     "data": {
      "text/plain": [
       "39320096409 milliseconds"
      ]
     },
     "execution_count": 92,
     "metadata": {},
     "output_type": "execute_result"
    }
   ],
   "source": [
    "now() - DateTime(2020)"
   ]
  },
  {
   "cell_type": "code",
   "execution_count": 93,
   "metadata": {
    "scrolled": true
   },
   "outputs": [
    {
     "ename": "LoadError",
     "evalue": "MethodError: no method matching -(::DateTime, ::Date)\n\u001b[0mClosest candidates are:\n\u001b[0m  -(\u001b[91m::StridedArray{var\"#s832\", N} where {var\"#s832\"<:Union{Dates.CompoundPeriod, Period}, N}\u001b[39m, ::TimeType) at /buildworker/worker/package_linux64/build/usr/share/julia/stdlib/v1.6/Dates/src/deprecated.jl:26\n\u001b[0m  -(::TimeType, \u001b[91m::Dates.CompoundPeriod\u001b[39m) at /buildworker/worker/package_linux64/build/usr/share/julia/stdlib/v1.6/Dates/src/periods.jl:384\n\u001b[0m  -(::T, \u001b[91m::T\u001b[39m) where T<:TimeType at /buildworker/worker/package_linux64/build/usr/share/julia/stdlib/v1.6/Dates/src/arithmetic.jl:9\n\u001b[0m  ...",
     "output_type": "error",
     "traceback": [
      "MethodError: no method matching -(::DateTime, ::Date)\n\u001b[0mClosest candidates are:\n\u001b[0m  -(\u001b[91m::StridedArray{var\"#s832\", N} where {var\"#s832\"<:Union{Dates.CompoundPeriod, Period}, N}\u001b[39m, ::TimeType) at /buildworker/worker/package_linux64/build/usr/share/julia/stdlib/v1.6/Dates/src/deprecated.jl:26\n\u001b[0m  -(::TimeType, \u001b[91m::Dates.CompoundPeriod\u001b[39m) at /buildworker/worker/package_linux64/build/usr/share/julia/stdlib/v1.6/Dates/src/periods.jl:384\n\u001b[0m  -(::T, \u001b[91m::T\u001b[39m) where T<:TimeType at /buildworker/worker/package_linux64/build/usr/share/julia/stdlib/v1.6/Dates/src/arithmetic.jl:9\n\u001b[0m  ...",
      "",
      "Stacktrace:",
      " [1] top-level scope",
      "   @ In[93]:1",
      " [2] eval",
      "   @ ./boot.jl:360 [inlined]",
      " [3] include_string(mapexpr::typeof(REPL.softscope), mod::Module, code::String, filename::String)",
      "   @ Base ./loading.jl:1094"
     ]
    }
   ],
   "source": [
    "now() - Date(2020)"
   ]
  },
  {
   "cell_type": "code",
   "execution_count": 94,
   "metadata": {},
   "outputs": [
    {
     "data": {
      "text/plain": [
       "455 days"
      ]
     },
     "execution_count": 94,
     "metadata": {},
     "output_type": "execute_result"
    }
   ],
   "source": [
    "Date(now()) - Date(2020)"
   ]
  },
  {
   "cell_type": "code",
   "execution_count": 95,
   "metadata": {},
   "outputs": [
    {
     "data": {
      "text/plain": [
       "2021 years"
      ]
     },
     "execution_count": 95,
     "metadata": {},
     "output_type": "execute_result"
    }
   ],
   "source": [
    "Year(now())"
   ]
  },
  {
   "cell_type": "code",
   "execution_count": 96,
   "metadata": {},
   "outputs": [
    {
     "data": {
      "text/plain": [
       "3 months"
      ]
     },
     "execution_count": 96,
     "metadata": {},
     "output_type": "execute_result"
    }
   ],
   "source": [
    "Month(now())"
   ]
  },
  {
   "cell_type": "code",
   "execution_count": 97,
   "metadata": {},
   "outputs": [
    {
     "data": {
      "text/plain": [
       "31 days"
      ]
     },
     "execution_count": 97,
     "metadata": {},
     "output_type": "execute_result"
    }
   ],
   "source": [
    "Day(now())"
   ]
  },
  {
   "cell_type": "code",
   "execution_count": 98,
   "metadata": {},
   "outputs": [
    {
     "data": {
      "text/plain": [
       "13 weeks"
      ]
     },
     "execution_count": 98,
     "metadata": {},
     "output_type": "execute_result"
    }
   ],
   "source": [
    "Week(now())"
   ]
  },
  {
   "cell_type": "code",
   "execution_count": 99,
   "metadata": {},
   "outputs": [
    {
     "data": {
      "text/plain": [
       "2021"
      ]
     },
     "execution_count": 99,
     "metadata": {},
     "output_type": "execute_result"
    }
   ],
   "source": [
    "year(now())"
   ]
  },
  {
   "cell_type": "code",
   "execution_count": 100,
   "metadata": {},
   "outputs": [
    {
     "data": {
      "text/plain": [
       "2021-11-25"
      ]
     },
     "execution_count": 100,
     "metadata": {},
     "output_type": "execute_result"
    }
   ],
   "source": [
    "tonext(today()) do d\n",
    "    dayofweek(d) == Thursday &&\n",
    "    dayofweekofmonth(d) == 4 &&\n",
    "    month(d) == November\n",
    "end"
   ]
  },
  {
   "cell_type": "markdown",
   "metadata": {},
   "source": [
    "### Logging\n",
    "\n",
    "Long running processes or servers running in Julia need to provide consistent and standard log reporting. This module helps create such reports. "
   ]
  },
  {
   "cell_type": "code",
   "execution_count": 101,
   "metadata": {},
   "outputs": [],
   "source": [
    "@debug \"This is a debug message $(sum(rand(100)))\""
   ]
  },
  {
   "cell_type": "code",
   "execution_count": 102,
   "metadata": {},
   "outputs": [
    {
     "name": "stderr",
     "output_type": "stream",
     "text": [
      "┌ Info: This message is just informational\n",
      "└ @ Main In[102]:1\n"
     ]
    }
   ],
   "source": [
    "@info \"This message is just informational\""
   ]
  },
  {
   "cell_type": "code",
   "execution_count": 103,
   "metadata": {},
   "outputs": [
    {
     "name": "stderr",
     "output_type": "stream",
     "text": [
      "┌ Warning: This is a warning message\n",
      "└ @ Main In[103]:1\n"
     ]
    }
   ],
   "source": [
    "@warn \"This is a warning message\""
   ]
  },
  {
   "cell_type": "code",
   "execution_count": 104,
   "metadata": {},
   "outputs": [
    {
     "name": "stderr",
     "output_type": "stream",
     "text": [
      "┌ Error: This is an error message\n",
      "└ @ Main In[104]:1\n"
     ]
    }
   ],
   "source": [
    "@error \"This is an error message\""
   ]
  },
  {
   "cell_type": "code",
   "execution_count": 105,
   "metadata": {},
   "outputs": [
    {
     "name": "stderr",
     "output_type": "stream",
     "text": [
      "┌ Info: A is all ones\n",
      "│   A = [1.0 1.0 1.0 1.0; 1.0 1.0 1.0 1.0; 1.0 1.0 1.0 1.0]\n",
      "└ @ Main In[105]:2\n"
     ]
    }
   ],
   "source": [
    "A = ones(3, 4)\n",
    "@info \"A is all ones\" A"
   ]
  },
  {
   "cell_type": "markdown",
   "metadata": {},
   "source": [
    "The `Logging` module provides interfaces to implement complete loggers. It also provides the ability to override the global logger with a different local one. "
   ]
  },
  {
   "cell_type": "code",
   "execution_count": 106,
   "metadata": {},
   "outputs": [],
   "source": [
    "using Logging"
   ]
  },
  {
   "cell_type": "code",
   "execution_count": 107,
   "metadata": {},
   "outputs": [
    {
     "name": "stdout",
     "output_type": "stream",
     "text": [
      "┌ Info: This is my simple info log\n",
      "└ @ Main In[107]:3\n",
      "┌ Error: This is an error written to file\n",
      "└ @ Main In[107]:4\n",
      "┌ Warning: This is a warning message\n",
      "└ @ Main In[107]:5\n",
      "┌ Info: Current logger is same as global logger\n",
      "│   current_logger() == global_logger() = false\n",
      "└ @ Main In[107]:6\n"
     ]
    }
   ],
   "source": [
    "open(\"file.log\", \"w\") do f\n",
    "    with_logger(SimpleLogger(f)) do\n",
    "        @info \"This is my simple info log\"\n",
    "        @error \"This is an error written to file\"\n",
    "        @warn \"This is a warning message\"\n",
    "        @info \"Current logger is same as global logger\" current_logger() == global_logger()\n",
    "    end\n",
    "end\n",
    "write(stdout, read(\"file.log\"));"
   ]
  },
  {
   "cell_type": "code",
   "execution_count": 108,
   "metadata": {},
   "outputs": [],
   "source": [
    "rm(\"file.log\")"
   ]
  },
  {
   "cell_type": "code",
   "execution_count": 109,
   "metadata": {},
   "outputs": [
    {
     "name": "stderr",
     "output_type": "stream",
     "text": [
      "┌ Info: Current logger is same as global logger\n",
      "│   current_logger() == global_logger() = true\n",
      "└ @ Main In[109]:1\n"
     ]
    }
   ],
   "source": [
    "@info \"Current logger is same as global logger\" current_logger() == global_logger()"
   ]
  },
  {
   "cell_type": "markdown",
   "metadata": {},
   "source": [
    "### Statistics\n",
    "\n",
    "This module provides simple functions for central tendencies like mean, median and standard deviations etc. Functions for correlations and covariances are also provided. However, the treatment of statistics in thi module are highly rudimentary. "
   ]
  },
  {
   "cell_type": "code",
   "execution_count": 110,
   "metadata": {},
   "outputs": [],
   "source": [
    "using Statistics"
   ]
  },
  {
   "cell_type": "code",
   "execution_count": 111,
   "metadata": {},
   "outputs": [
    {
     "data": {
      "text/plain": [
       "5.5"
      ]
     },
     "execution_count": 111,
     "metadata": {},
     "output_type": "execute_result"
    }
   ],
   "source": [
    "mean(1:10)"
   ]
  },
  {
   "cell_type": "code",
   "execution_count": 112,
   "metadata": {},
   "outputs": [
    {
     "data": {
      "text/plain": [
       "5.5"
      ]
     },
     "execution_count": 112,
     "metadata": {},
     "output_type": "execute_result"
    }
   ],
   "source": [
    "median(1:10)"
   ]
  },
  {
   "cell_type": "code",
   "execution_count": 113,
   "metadata": {},
   "outputs": [
    {
     "data": {
      "text/plain": [
       "3.0276503540974917"
      ]
     },
     "execution_count": 113,
     "metadata": {},
     "output_type": "execute_result"
    }
   ],
   "source": [
    "std(1:10)"
   ]
  },
  {
   "cell_type": "code",
   "execution_count": 114,
   "metadata": {},
   "outputs": [
    {
     "data": {
      "text/plain": [
       "9.166666666666666"
      ]
     },
     "execution_count": 114,
     "metadata": {},
     "output_type": "execute_result"
    }
   ],
   "source": [
    "var(1:10)"
   ]
  },
  {
   "cell_type": "code",
   "execution_count": 115,
   "metadata": {},
   "outputs": [
    {
     "data": {
      "text/plain": [
       "-0.005045481677433136"
      ]
     },
     "execution_count": 115,
     "metadata": {},
     "output_type": "execute_result"
    }
   ],
   "source": [
    "cor(1:10, rand(10))"
   ]
  },
  {
   "cell_type": "code",
   "execution_count": 116,
   "metadata": {},
   "outputs": [
    {
     "data": {
      "text/plain": [
       "1.0"
      ]
     },
     "execution_count": 116,
     "metadata": {},
     "output_type": "execute_result"
    }
   ],
   "source": [
    "cor(1:10, 11:20)"
   ]
  },
  {
   "cell_type": "code",
   "execution_count": 117,
   "metadata": {},
   "outputs": [
    {
     "data": {
      "text/plain": [
       "0.3460879740119759"
      ]
     },
     "execution_count": 117,
     "metadata": {},
     "output_type": "execute_result"
    }
   ],
   "source": [
    "cov(1:10, rand(10))"
   ]
  },
  {
   "cell_type": "markdown",
   "metadata": {},
   "source": [
    "### Random Numbers\n",
    "\n",
    "Provides methods for random number generation and other permutation and combination functions. "
   ]
  },
  {
   "cell_type": "code",
   "execution_count": 118,
   "metadata": {},
   "outputs": [],
   "source": [
    "using Random"
   ]
  },
  {
   "cell_type": "code",
   "execution_count": 119,
   "metadata": {},
   "outputs": [
    {
     "data": {
      "text/plain": [
       "2-element Vector{Int64}:\n",
       " -3683361872024567216\n",
       "  6382831596640906158"
      ]
     },
     "execution_count": 119,
     "metadata": {},
     "output_type": "execute_result"
    }
   ],
   "source": [
    "rand(Int, 2)"
   ]
  },
  {
   "cell_type": "code",
   "execution_count": 120,
   "metadata": {},
   "outputs": [
    {
     "data": {
      "text/plain": [
       "2×3 Matrix{Float64}:\n",
       " 0.26227  0.0469298  0.0352454\n",
       " 0.35536  0.271616   0.545435"
      ]
     },
     "execution_count": 120,
     "metadata": {},
     "output_type": "execute_result"
    }
   ],
   "source": [
    "rand(2, 3)"
   ]
  },
  {
   "cell_type": "code",
   "execution_count": 121,
   "metadata": {},
   "outputs": [
    {
     "data": {
      "text/plain": [
       "2×3 Matrix{Float64}:\n",
       " 0.52666   0.393512  0.674182\n",
       " 0.156176  0.117102  0.700993"
      ]
     },
     "execution_count": 121,
     "metadata": {},
     "output_type": "execute_result"
    }
   ],
   "source": [
    "rand!(zeros(2, 3))"
   ]
  },
  {
   "cell_type": "code",
   "execution_count": 122,
   "metadata": {},
   "outputs": [
    {
     "data": {
      "text/plain": [
       "2×3 Matrix{Int64}:\n",
       " 1  4  3\n",
       " 3  3  1"
      ]
     },
     "execution_count": 122,
     "metadata": {},
     "output_type": "execute_result"
    }
   ],
   "source": [
    "rand(1:4, (2, 3))"
   ]
  },
  {
   "cell_type": "markdown",
   "metadata": {},
   "source": [
    "## 9.9 Conclusion\n",
    "\n",
    "## Exercises"
   ]
  }
 ],
 "metadata": {
  "@webio": {
   "lastCommId": null,
   "lastKernelId": null
  },
  "kernelspec": {
   "display_name": "Julia 1.6.0",
   "language": "julia",
   "name": "julia-1.6"
  },
  "language_info": {
   "file_extension": ".jl",
   "mimetype": "application/julia",
   "name": "julia",
   "version": "1.6.0"
  }
 },
 "nbformat": 4,
 "nbformat_minor": 4
}
